{
 "cells": [
  {
   "cell_type": "code",
   "execution_count": 0,
   "metadata": {
    "colab": {},
    "colab_type": "code",
    "id": "aC-6cRbP-tbe"
   },
   "outputs": [],
   "source": [
    "# Silent deprecation warnings\n",
    "import warnings\n",
    "warnings.filterwarnings('ignore')\n",
    "\n",
    "# Silent tensor flow warning related to version 2 https://www.tensorflow.org/guide/migrate (below two lines are not working)\n",
    "# import tensorflow.compat.v1 as tf\n",
    "# tf.disable_v2_behavior()\n",
    "\n",
    "# if your keras is not using tensorflow as backend set \"KERAS_BACKEND=tensorflow\" use this command\n",
    "from keras.utils import np_utils \n",
    "from keras.datasets import mnist \n",
    "import seaborn as sns\n",
    "from keras.initializers import RandomNormal\n",
    "\n",
    "# Explicilty set log level to error i.e. supress info and warnings from TF\n",
    "import os\n",
    "os.environ[\"TF_CPP_MIN_LOG_LEVEL\"]=\"2\"\n",
    "\n",
    "# Silent tensor flow warning related to version 2 https://www.tensorflow.org/guide/migrate (below two lines are not working)\n",
    "# import tensorflow.compat.v1 as tf\n",
    "# tf.disable_v2_behavior()"
   ]
  },
  {
   "cell_type": "code",
   "execution_count": 3,
   "metadata": {
    "colab": {
     "base_uri": "https://localhost:8080/",
     "height": 102
    },
    "colab_type": "code",
    "id": "3oO3H05d-9bA",
    "outputId": "7e4e6cb5-80db-4309-cc2b-6f3764b36dfa"
   },
   "outputs": [
    {
     "name": "stdout",
     "output_type": "stream",
     "text": [
      "Downloading data from https://s3.amazonaws.com/img-datasets/mnist.npz\n",
      "11493376/11490434 [==============================] - 1s 0us/step\n",
      "x_train shape: (60000, 28, 28, 1)\n",
      "60000 train samples\n",
      "10000 test samples\n"
     ]
    }
   ],
   "source": [
    "# Credits: https://github.com/keras-team/keras/blob/master/examples/mnist_cnn.py\n",
    "\n",
    "from __future__ import print_function\n",
    "import keras\n",
    "from keras.datasets import mnist\n",
    "from keras.models import Sequential\n",
    "from keras.layers import Dense, Dropout, Flatten\n",
    "from keras.layers import Conv2D, MaxPooling2D\n",
    "from keras import backend as K\n",
    "\n",
    "batch_size = 128\n",
    "num_classes = 10\n",
    "epochs = 12\n",
    "\n",
    "# input image dimensions\n",
    "img_rows, img_cols = 28, 28\n",
    "\n",
    "# the data, split between train and test sets\n",
    "(x_train, y_train), (x_test, y_test) = mnist.load_data()\n",
    "\n",
    "if K.image_data_format() == 'channels_first':\n",
    "    x_train = x_train.reshape(x_train.shape[0], 1, img_rows, img_cols)\n",
    "    x_test = x_test.reshape(x_test.shape[0], 1, img_rows, img_cols)\n",
    "    input_shape = (1, img_rows, img_cols)\n",
    "else:\n",
    "    x_train = x_train.reshape(x_train.shape[0], img_rows, img_cols, 1)\n",
    "    x_test = x_test.reshape(x_test.shape[0], img_rows, img_cols, 1)\n",
    "    input_shape = (img_rows, img_cols, 1)\n",
    "\n",
    "x_train = x_train.astype('float32')\n",
    "x_test = x_test.astype('float32')\n",
    "x_train /= 255\n",
    "x_test /= 255\n",
    "print('x_train shape:', x_train.shape)\n",
    "print(x_train.shape[0], 'train samples')\n",
    "print(x_test.shape[0], 'test samples')\n",
    "\n",
    "# convert class vectors to binary class matrices\n",
    "y_train = keras.utils.to_categorical(y_train, num_classes)\n",
    "y_test = keras.utils.to_categorical(y_test, num_classes)"
   ]
  },
  {
   "cell_type": "code",
   "execution_count": 0,
   "metadata": {
    "colab": {},
    "colab_type": "code",
    "id": "BcnqE2lK-tbi"
   },
   "outputs": [],
   "source": [
    "import matplotlib\n",
    "import matplotlib.pyplot as plt\n",
    "import numpy as np\n",
    "import time\n",
    "# https://gist.github.com/greydanus/f6eee59eaf1d90fcb3b534a25362cea4\n",
    "# https://stackoverflow.com/a/14434334\n",
    "# this function is used to update the plots for each epoch and error\n",
    "def plt_dynamic(x, vy, ty, ax, colors=['b']):\n",
    "    ax.plot(x, vy, 'b', label=\"Validation Loss\")\n",
    "    ax.plot(x, ty, 'r', label=\"Train Loss\")\n",
    "    plt.legend()\n",
    "    plt.grid()\n",
    "    fig.canvas.draw()"
   ]
  },
  {
   "cell_type": "markdown",
   "metadata": {
    "colab_type": "text",
    "id": "wApAsLYSBy1I"
   },
   "source": [
    "<h1> Assignment CNN on MNIST </h1>\n",
    "\n",
    "MNIST with 3 different ConvNets Architecture\n",
    "\n",
    "* M1: 3X3\n",
    "* M2: 5X5\n",
    "* M3: 7X7\n",
    "\n",
    "Include following features as well:\n",
    "\n",
    "* Flatten\n",
    "* Dense\n",
    "* Dropout\n",
    "* Maxpooling\n",
    "* Batch Normalization"
   ]
  },
  {
   "cell_type": "code",
   "execution_count": 0,
   "metadata": {
    "colab": {
     "base_uri": "https://localhost:8080/",
     "height": 1000
    },
    "colab_type": "code",
    "id": "hNaCBsYLXgOf",
    "outputId": "e4cae6b3-8a67-4ebc-8136-e2da61380404"
   },
   "outputs": [
    {
     "name": "stdout",
     "output_type": "stream",
     "text": [
      "WARNING:tensorflow:From /usr/local/lib/python3.6/dist-packages/keras/backend/tensorflow_backend.py:66: The name tf.get_default_graph is deprecated. Please use tf.compat.v1.get_default_graph instead.\n",
      "\n",
      "WARNING:tensorflow:From /usr/local/lib/python3.6/dist-packages/keras/backend/tensorflow_backend.py:541: The name tf.placeholder is deprecated. Please use tf.compat.v1.placeholder instead.\n",
      "\n",
      "WARNING:tensorflow:From /usr/local/lib/python3.6/dist-packages/keras/backend/tensorflow_backend.py:4432: The name tf.random_uniform is deprecated. Please use tf.random.uniform instead.\n",
      "\n",
      "WARNING:tensorflow:From /usr/local/lib/python3.6/dist-packages/keras/backend/tensorflow_backend.py:4267: The name tf.nn.max_pool is deprecated. Please use tf.nn.max_pool2d instead.\n",
      "\n",
      "WARNING:tensorflow:From /usr/local/lib/python3.6/dist-packages/keras/backend/tensorflow_backend.py:148: The name tf.placeholder_with_default is deprecated. Please use tf.compat.v1.placeholder_with_default instead.\n",
      "\n",
      "WARNING:tensorflow:From /usr/local/lib/python3.6/dist-packages/keras/backend/tensorflow_backend.py:3733: calling dropout (from tensorflow.python.ops.nn_ops) with keep_prob is deprecated and will be removed in a future version.\n",
      "Instructions for updating:\n",
      "Please use `rate` instead of `keep_prob`. Rate should be set to `rate = 1 - keep_prob`.\n",
      "WARNING:tensorflow:From /usr/local/lib/python3.6/dist-packages/keras/optimizers.py:793: The name tf.train.Optimizer is deprecated. Please use tf.compat.v1.train.Optimizer instead.\n",
      "\n",
      "WARNING:tensorflow:From /usr/local/lib/python3.6/dist-packages/keras/backend/tensorflow_backend.py:3576: The name tf.log is deprecated. Please use tf.math.log instead.\n",
      "\n",
      "WARNING:tensorflow:From /usr/local/lib/python3.6/dist-packages/tensorflow_core/python/ops/math_grad.py:1424: where (from tensorflow.python.ops.array_ops) is deprecated and will be removed in a future version.\n",
      "Instructions for updating:\n",
      "Use tf.where in 2.0, which has the same broadcast rule as np.where\n",
      "WARNING:tensorflow:From /usr/local/lib/python3.6/dist-packages/keras/backend/tensorflow_backend.py:1033: The name tf.assign_add is deprecated. Please use tf.compat.v1.assign_add instead.\n",
      "\n",
      "WARNING:tensorflow:From /usr/local/lib/python3.6/dist-packages/keras/backend/tensorflow_backend.py:1020: The name tf.assign is deprecated. Please use tf.compat.v1.assign instead.\n",
      "\n",
      "WARNING:tensorflow:From /usr/local/lib/python3.6/dist-packages/keras/backend/tensorflow_backend.py:3005: The name tf.Session is deprecated. Please use tf.compat.v1.Session instead.\n",
      "\n",
      "Train on 60000 samples, validate on 10000 samples\n",
      "Epoch 1/12\n",
      "WARNING:tensorflow:From /usr/local/lib/python3.6/dist-packages/keras/backend/tensorflow_backend.py:190: The name tf.get_default_session is deprecated. Please use tf.compat.v1.get_default_session instead.\n",
      "\n",
      "WARNING:tensorflow:From /usr/local/lib/python3.6/dist-packages/keras/backend/tensorflow_backend.py:197: The name tf.ConfigProto is deprecated. Please use tf.compat.v1.ConfigProto instead.\n",
      "\n",
      "WARNING:tensorflow:From /usr/local/lib/python3.6/dist-packages/keras/backend/tensorflow_backend.py:207: The name tf.global_variables is deprecated. Please use tf.compat.v1.global_variables instead.\n",
      "\n",
      "WARNING:tensorflow:From /usr/local/lib/python3.6/dist-packages/keras/backend/tensorflow_backend.py:216: The name tf.is_variable_initialized is deprecated. Please use tf.compat.v1.is_variable_initialized instead.\n",
      "\n",
      "WARNING:tensorflow:From /usr/local/lib/python3.6/dist-packages/keras/backend/tensorflow_backend.py:223: The name tf.variables_initializer is deprecated. Please use tf.compat.v1.variables_initializer instead.\n",
      "\n",
      "60000/60000 [==============================] - 171s 3ms/step - loss: 0.2839 - acc: 0.9135 - val_loss: 0.0696 - val_acc: 0.9775\n",
      "Epoch 2/12\n",
      "60000/60000 [==============================] - 172s 3ms/step - loss: 0.0927 - acc: 0.9725 - val_loss: 0.0423 - val_acc: 0.9858\n",
      "Epoch 3/12\n",
      "60000/60000 [==============================] - 172s 3ms/step - loss: 0.0701 - acc: 0.9795 - val_loss: 0.0355 - val_acc: 0.9881\n",
      "Epoch 4/12\n",
      "60000/60000 [==============================] - 173s 3ms/step - loss: 0.0579 - acc: 0.9826 - val_loss: 0.0315 - val_acc: 0.9891\n",
      "Epoch 5/12\n",
      "60000/60000 [==============================] - 173s 3ms/step - loss: 0.0510 - acc: 0.9847 - val_loss: 0.0367 - val_acc: 0.9879\n",
      "Epoch 6/12\n",
      "60000/60000 [==============================] - 172s 3ms/step - loss: 0.0442 - acc: 0.9868 - val_loss: 0.0275 - val_acc: 0.9904\n",
      "Epoch 7/12\n",
      "60000/60000 [==============================] - 171s 3ms/step - loss: 0.0392 - acc: 0.9884 - val_loss: 0.0301 - val_acc: 0.9897\n",
      "Epoch 8/12\n",
      "60000/60000 [==============================] - 173s 3ms/step - loss: 0.0373 - acc: 0.9891 - val_loss: 0.0283 - val_acc: 0.9908\n",
      "Epoch 9/12\n",
      "60000/60000 [==============================] - 173s 3ms/step - loss: 0.0350 - acc: 0.9895 - val_loss: 0.0279 - val_acc: 0.9912\n",
      "Epoch 10/12\n",
      "60000/60000 [==============================] - 174s 3ms/step - loss: 0.0320 - acc: 0.9905 - val_loss: 0.0269 - val_acc: 0.9911\n",
      "Epoch 11/12\n",
      "60000/60000 [==============================] - 172s 3ms/step - loss: 0.0298 - acc: 0.9909 - val_loss: 0.0296 - val_acc: 0.9914\n",
      "Epoch 12/12\n",
      "60000/60000 [==============================] - 172s 3ms/step - loss: 0.0293 - acc: 0.9913 - val_loss: 0.0299 - val_acc: 0.9917\n"
     ]
    }
   ],
   "source": [
    "# 2 ConvNet layers of kernel size (3,3) with AdaDelta optimizer without BN\n",
    "model = Sequential()\n",
    "\n",
    "model.add(Conv2D(32, kernel_size=(3, 3),\n",
    "                 activation='relu',\n",
    "                 input_shape=input_shape))\n",
    "\n",
    "model.add(Conv2D(64, (3, 3), activation='relu'))\n",
    "\n",
    "model.add(MaxPooling2D(pool_size=(2, 2)))\n",
    "model.add(Dropout(0.25))\n",
    "model.add(Flatten())\n",
    "\n",
    "model.add(Dense(128, activation='relu'))\n",
    "model.add(Dropout(0.5))\n",
    "model.add(Dense(num_classes, activation='softmax'))\n",
    "\n",
    "model.compile(loss=keras.losses.categorical_crossentropy,\n",
    "              optimizer=keras.optimizers.Adadelta(),\n",
    "              metrics=['accuracy'])\n",
    "\n",
    "history = model.fit(x_train, y_train,\n",
    "          batch_size=batch_size,\n",
    "          epochs=epochs,\n",
    "          verbose=1,\n",
    "          validation_data=(x_test, y_test))"
   ]
  },
  {
   "cell_type": "code",
   "execution_count": 0,
   "metadata": {
    "colab": {
     "base_uri": "https://localhost:8080/",
     "height": 313
    },
    "colab_type": "code",
    "id": "S3nVQB5_YqTL",
    "outputId": "28389e12-6e1e-4f0f-aaf2-e874113e13e6"
   },
   "outputs": [
    {
     "name": "stdout",
     "output_type": "stream",
     "text": [
      "Test loss: 0.02989680919691109\n",
      "Test accuracy: 0.9917\n"
     ]
    },
    {
     "data": {
      "image/png": "[encoded data removed]",
      "text/plain": [
       "<Figure size 432x288 with 1 Axes>"
      ]
     },
     "metadata": {
      "tags": []
     },
     "output_type": "display_data"
    }
   ],
   "source": [
    "score = model.evaluate(x_test, y_test, verbose=0)\n",
    "print('Test loss:', score[0])\n",
    "print('Test accuracy:', score[1])\n",
    "\n",
    "fig,ax = plt.subplots(1,1)\n",
    "ax.set_xlabel('epoch') ; ax.set_ylabel('Categorical Crossentropy Loss')\n",
    "\n",
    "# list of epoch numbers\n",
    "x = list(range(1,epochs+1))\n",
    "\n",
    "# print(history.history.keys())\n",
    "# dict_keys(['val_loss', 'val_acc', 'loss', 'acc'])\n",
    "# history = model_drop.fit(X_train, Y_train, batch_size=batch_size, epochs=nb_epoch, verbose=1, validation_data=(X_test, Y_test))\n",
    "\n",
    "# we will get val_loss and val_acc only when you pass the paramter validation_data\n",
    "# val_loss : validation loss\n",
    "# val_acc : validation accuracy\n",
    "\n",
    "# loss : training loss\n",
    "# acc : train accuracy\n",
    "# for each key in histrory.histrory we will have a list of length equal to number of epochs\n",
    "\n",
    "vy = history.history['val_loss']\n",
    "ty = history.history['loss']\n",
    "plt_dynamic(x, vy, ty, ax)"
   ]
  },
  {
   "cell_type": "code",
   "execution_count": 0,
   "metadata": {
    "colab": {
     "base_uri": "https://localhost:8080/",
     "height": 442
    },
    "colab_type": "code",
    "id": "SfoykgFrYdNm",
    "outputId": "4787fd0a-9972-4c92-c29c-a8d4cb4dcfd3"
   },
   "outputs": [
    {
     "name": "stdout",
     "output_type": "stream",
     "text": [
      "Train on 60000 samples, validate on 10000 samples\n",
      "Epoch 1/12\n",
      "60000/60000 [==============================] - 168s 3ms/step - loss: 0.2643 - acc: 0.9181 - val_loss: 0.0598 - val_acc: 0.9809\n",
      "Epoch 2/12\n",
      "60000/60000 [==============================] - 167s 3ms/step - loss: 0.0865 - acc: 0.9735 - val_loss: 0.0425 - val_acc: 0.9853\n",
      "Epoch 3/12\n",
      "60000/60000 [==============================] - 166s 3ms/step - loss: 0.0641 - acc: 0.9810 - val_loss: 0.0351 - val_acc: 0.9885\n",
      "Epoch 4/12\n",
      "60000/60000 [==============================] - 166s 3ms/step - loss: 0.0537 - acc: 0.9847 - val_loss: 0.0353 - val_acc: 0.9881\n",
      "Epoch 5/12\n",
      "60000/60000 [==============================] - 167s 3ms/step - loss: 0.0473 - acc: 0.9861 - val_loss: 0.0280 - val_acc: 0.9905\n",
      "Epoch 6/12\n",
      "60000/60000 [==============================] - 167s 3ms/step - loss: 0.0405 - acc: 0.9879 - val_loss: 0.0326 - val_acc: 0.9897\n",
      "Epoch 7/12\n",
      "60000/60000 [==============================] - 167s 3ms/step - loss: 0.0366 - acc: 0.9884 - val_loss: 0.0276 - val_acc: 0.9907\n",
      "Epoch 8/12\n",
      "60000/60000 [==============================] - 167s 3ms/step - loss: 0.0328 - acc: 0.9898 - val_loss: 0.0297 - val_acc: 0.9906\n",
      "Epoch 9/12\n",
      "60000/60000 [==============================] - 169s 3ms/step - loss: 0.0303 - acc: 0.9903 - val_loss: 0.0258 - val_acc: 0.9918\n",
      "Epoch 10/12\n",
      "60000/60000 [==============================] - 169s 3ms/step - loss: 0.0301 - acc: 0.9906 - val_loss: 0.0298 - val_acc: 0.9909\n",
      "Epoch 11/12\n",
      "60000/60000 [==============================] - 170s 3ms/step - loss: 0.0254 - acc: 0.9923 - val_loss: 0.0279 - val_acc: 0.9919\n",
      "Epoch 12/12\n",
      "60000/60000 [==============================] - 167s 3ms/step - loss: 0.0254 - acc: 0.9920 - val_loss: 0.0265 - val_acc: 0.9916\n"
     ]
    }
   ],
   "source": [
    "# 2 ConvNet layers of kernel size (3,3) with adam optimizer without BN\n",
    "\n",
    "model = Sequential()\n",
    "\n",
    "model.add(Conv2D(32, kernel_size=(3, 3),\n",
    "                 activation='relu',\n",
    "                 input_shape=input_shape))\n",
    "\n",
    "model.add(Conv2D(64, (3, 3), activation='relu'))\n",
    "\n",
    "model.add(MaxPooling2D(pool_size=(2, 2)))\n",
    "model.add(Dropout(0.25))\n",
    "model.add(Flatten())\n",
    "\n",
    "model.add(Dense(128, activation='relu'))\n",
    "model.add(Dropout(0.5))\n",
    "model.add(Dense(num_classes, activation='softmax'))\n",
    "\n",
    "model.compile(loss=keras.losses.categorical_crossentropy,\n",
    "              optimizer=keras.optimizers.Adadelta(),\n",
    "              metrics=['accuracy'])\n",
    "\n",
    "history = model.fit(x_train, y_train,\n",
    "          batch_size=batch_size,\n",
    "          epochs=epochs,\n",
    "          verbose=1,\n",
    "          validation_data=(x_test, y_test))"
   ]
  },
  {
   "cell_type": "code",
   "execution_count": 0,
   "metadata": {
    "colab": {
     "base_uri": "https://localhost:8080/",
     "height": 313
    },
    "colab_type": "code",
    "id": "3zIOsmRJYsSB",
    "outputId": "364bc421-e4c5-4022-ec4f-39dc0d80561a"
   },
   "outputs": [
    {
     "name": "stdout",
     "output_type": "stream",
     "text": [
      "Test loss: 0.0264959564788458\n",
      "Test accuracy: 0.9916\n"
     ]
    },
    {
     "data": {
      "image/png": "[encoded data removed]",
      "text/plain": [
       "<Figure size 432x288 with 1 Axes>"
      ]
     },
     "metadata": {
      "tags": []
     },
     "output_type": "display_data"
    }
   ],
   "source": [
    "score = model.evaluate(x_test, y_test, verbose=0)\n",
    "print('Test loss:', score[0])\n",
    "print('Test accuracy:', score[1])\n",
    "\n",
    "fig,ax = plt.subplots(1,1)\n",
    "ax.set_xlabel('epoch') ; ax.set_ylabel('Categorical Crossentropy Loss')\n",
    "\n",
    "# list of epoch numbers\n",
    "x = list(range(1,epochs+1))\n",
    "\n",
    "# print(history.history.keys())\n",
    "# dict_keys(['val_loss', 'val_acc', 'loss', 'acc'])\n",
    "# history = model_drop.fit(X_train, Y_train, batch_size=batch_size, epochs=nb_epoch, verbose=1, validation_data=(X_test, Y_test))\n",
    "\n",
    "# we will get val_loss and val_acc only when you pass the paramter validation_data\n",
    "# val_loss : validation loss\n",
    "# val_acc : validation accuracy\n",
    "\n",
    "# loss : training loss\n",
    "# acc : train accuracy\n",
    "# for each key in histrory.histrory we will have a list of length equal to number of epochs\n",
    "\n",
    "vy = history.history['val_loss']\n",
    "ty = history.history['loss']\n",
    "plt_dynamic(x, vy, ty, ax)"
   ]
  },
  {
   "cell_type": "code",
   "execution_count": 0,
   "metadata": {
    "colab": {
     "base_uri": "https://localhost:8080/",
     "height": 496
    },
    "colab_type": "code",
    "id": "xfzdPdd_ZcRl",
    "outputId": "80434690-3c3e-49b3-aa9a-ff936a09b2fe"
   },
   "outputs": [
    {
     "name": "stdout",
     "output_type": "stream",
     "text": [
      "WARNING:tensorflow:From /usr/local/lib/python3.6/dist-packages/keras/backend/tensorflow_backend.py:2041: The name tf.nn.fused_batch_norm is deprecated. Please use tf.compat.v1.nn.fused_batch_norm instead.\n",
      "\n",
      "Train on 60000 samples, validate on 10000 samples\n",
      "Epoch 1/12\n",
      "60000/60000 [==============================] - 181s 3ms/step - loss: 0.1574 - acc: 0.9532 - val_loss: 0.0447 - val_acc: 0.9843\n",
      "Epoch 2/12\n",
      "60000/60000 [==============================] - 181s 3ms/step - loss: 0.0630 - acc: 0.9811 - val_loss: 0.0523 - val_acc: 0.9833\n",
      "Epoch 3/12\n",
      "60000/60000 [==============================] - 182s 3ms/step - loss: 0.0449 - acc: 0.9865 - val_loss: 0.0335 - val_acc: 0.9897\n",
      "Epoch 4/12\n",
      "60000/60000 [==============================] - 185s 3ms/step - loss: 0.0362 - acc: 0.9886 - val_loss: 0.0371 - val_acc: 0.9883\n",
      "Epoch 5/12\n",
      "60000/60000 [==============================] - 185s 3ms/step - loss: 0.0316 - acc: 0.9902 - val_loss: 0.0321 - val_acc: 0.9888\n",
      "Epoch 6/12\n",
      "60000/60000 [==============================] - 183s 3ms/step - loss: 0.0257 - acc: 0.9922 - val_loss: 0.0373 - val_acc: 0.9895\n",
      "Epoch 7/12\n",
      "60000/60000 [==============================] - 182s 3ms/step - loss: 0.0222 - acc: 0.9931 - val_loss: 0.0333 - val_acc: 0.9894\n",
      "Epoch 8/12\n",
      "60000/60000 [==============================] - 180s 3ms/step - loss: 0.0194 - acc: 0.9939 - val_loss: 0.0298 - val_acc: 0.9904\n",
      "Epoch 9/12\n",
      "60000/60000 [==============================] - 178s 3ms/step - loss: 0.0166 - acc: 0.9946 - val_loss: 0.0266 - val_acc: 0.9917\n",
      "Epoch 10/12\n",
      "60000/60000 [==============================] - 181s 3ms/step - loss: 0.0148 - acc: 0.9953 - val_loss: 0.0246 - val_acc: 0.9920\n",
      "Epoch 11/12\n",
      "60000/60000 [==============================] - 184s 3ms/step - loss: 0.0135 - acc: 0.9956 - val_loss: 0.0314 - val_acc: 0.9915\n",
      "Epoch 12/12\n",
      "60000/60000 [==============================] - 186s 3ms/step - loss: 0.0113 - acc: 0.9965 - val_loss: 0.0310 - val_acc: 0.9916\n"
     ]
    }
   ],
   "source": [
    "# 2 ConvNet layers of kernel size (3,3) with AdaDelta optimizer with BN\n",
    "\n",
    "from keras.layers.normalization import BatchNormalization\n",
    "\n",
    "model = Sequential()\n",
    "\n",
    "model.add(Conv2D(32, kernel_size=(3, 3),\n",
    "                 activation='relu',\n",
    "                 input_shape=input_shape))\n",
    "\n",
    "model.add(Conv2D(64, (3, 3), activation='relu'))\n",
    "\n",
    "model.add(MaxPooling2D(pool_size=(2, 2)))\n",
    "model.add(BatchNormalization())\n",
    "model.add(Dropout(0.25))\n",
    "model.add(Flatten())\n",
    "\n",
    "model.add(Dense(128, activation='relu'))\n",
    "model.add(BatchNormalization())\n",
    "model.add(Dropout(0.5))\n",
    "model.add(Dense(num_classes, activation='softmax'))\n",
    "\n",
    "model.compile(loss=keras.losses.categorical_crossentropy,\n",
    "              optimizer=keras.optimizers.Adadelta(),\n",
    "              metrics=['accuracy'])\n",
    "\n",
    "history = model.fit(x_train, y_train,\n",
    "          batch_size=batch_size,\n",
    "          epochs=epochs,\n",
    "          verbose=1,\n",
    "          validation_data=(x_test, y_test))"
   ]
  },
  {
   "cell_type": "code",
   "execution_count": 0,
   "metadata": {
    "colab": {
     "base_uri": "https://localhost:8080/",
     "height": 313
    },
    "colab_type": "code",
    "id": "vBq5P1WBZcd5",
    "outputId": "ebc61aef-62b3-402b-87dd-5853c799f977"
   },
   "outputs": [
    {
     "name": "stdout",
     "output_type": "stream",
     "text": [
      "Test loss: 0.03097261716249959\n",
      "Test accuracy: 0.9916\n"
     ]
    },
    {
     "data": {
      "image/png": "[encoded data removed]",
      "text/plain": [
       "<Figure size 432x288 with 1 Axes>"
      ]
     },
     "metadata": {
      "tags": []
     },
     "output_type": "display_data"
    }
   ],
   "source": [
    "score = model.evaluate(x_test, y_test, verbose=0)\n",
    "print('Test loss:', score[0])\n",
    "print('Test accuracy:', score[1])\n",
    "\n",
    "fig,ax = plt.subplots(1,1)\n",
    "ax.set_xlabel('epoch') ; ax.set_ylabel('Categorical Crossentropy Loss')\n",
    "\n",
    "# list of epoch numbers\n",
    "x = list(range(1,epochs+1))\n",
    "\n",
    "# print(history.history.keys())\n",
    "# dict_keys(['val_loss', 'val_acc', 'loss', 'acc'])\n",
    "# history = model_drop.fit(X_train, Y_train, batch_size=batch_size, epochs=nb_epoch, verbose=1, validation_data=(X_test, Y_test))\n",
    "\n",
    "# we will get val_loss and val_acc only when you pass the paramter validation_data\n",
    "# val_loss : validation loss\n",
    "# val_acc : validation accuracy\n",
    "\n",
    "# loss : training loss\n",
    "# acc : train accuracy\n",
    "# for each key in histrory.histrory we will have a list of length equal to number of epochs\n",
    "\n",
    "vy = history.history['val_loss']\n",
    "ty = history.history['loss']\n",
    "plt_dynamic(x, vy, ty, ax)"
   ]
  },
  {
   "cell_type": "code",
   "execution_count": 0,
   "metadata": {
    "colab": {
     "base_uri": "https://localhost:8080/",
     "height": 442
    },
    "colab_type": "code",
    "id": "QvDpkrh5Zcnd",
    "outputId": "310cc704-f263-4612-e567-1436d2e34f94"
   },
   "outputs": [
    {
     "name": "stdout",
     "output_type": "stream",
     "text": [
      "Train on 60000 samples, validate on 10000 samples\n",
      "Epoch 1/12\n",
      "60000/60000 [==============================] - 184s 3ms/step - loss: 0.1637 - acc: 0.9516 - val_loss: 0.0555 - val_acc: 0.9822\n",
      "Epoch 2/12\n",
      "60000/60000 [==============================] - 181s 3ms/step - loss: 0.0633 - acc: 0.9813 - val_loss: 0.0352 - val_acc: 0.9878\n",
      "Epoch 3/12\n",
      "60000/60000 [==============================] - 179s 3ms/step - loss: 0.0455 - acc: 0.9863 - val_loss: 0.0300 - val_acc: 0.9901\n",
      "Epoch 4/12\n",
      "60000/60000 [==============================] - 179s 3ms/step - loss: 0.0372 - acc: 0.9886 - val_loss: 0.0311 - val_acc: 0.9911\n",
      "Epoch 5/12\n",
      "60000/60000 [==============================] - 180s 3ms/step - loss: 0.0319 - acc: 0.9900 - val_loss: 0.0317 - val_acc: 0.9891\n",
      "Epoch 6/12\n",
      "60000/60000 [==============================] - 179s 3ms/step - loss: 0.0289 - acc: 0.9908 - val_loss: 0.0262 - val_acc: 0.9914\n",
      "Epoch 7/12\n",
      "60000/60000 [==============================] - 180s 3ms/step - loss: 0.0235 - acc: 0.9929 - val_loss: 0.0278 - val_acc: 0.9907\n",
      "Epoch 8/12\n",
      "60000/60000 [==============================] - 180s 3ms/step - loss: 0.0201 - acc: 0.9938 - val_loss: 0.0285 - val_acc: 0.9907\n",
      "Epoch 9/12\n",
      "60000/60000 [==============================] - 180s 3ms/step - loss: 0.0190 - acc: 0.9936 - val_loss: 0.0483 - val_acc: 0.9868\n",
      "Epoch 10/12\n",
      "60000/60000 [==============================] - 179s 3ms/step - loss: 0.0169 - acc: 0.9946 - val_loss: 0.0343 - val_acc: 0.9903\n",
      "Epoch 11/12\n",
      "60000/60000 [==============================] - 176s 3ms/step - loss: 0.0176 - acc: 0.9942 - val_loss: 0.0291 - val_acc: 0.9906\n",
      "Epoch 12/12\n",
      "60000/60000 [==============================] - 176s 3ms/step - loss: 0.0154 - acc: 0.9948 - val_loss: 0.0317 - val_acc: 0.9915\n"
     ]
    }
   ],
   "source": [
    "# 2 ConvNet layers of kernel size (3,3) with adam optimizer with BN\n",
    "\n",
    "from keras.layers.normalization import BatchNormalization\n",
    "\n",
    "model = Sequential()\n",
    "\n",
    "model.add(Conv2D(32, kernel_size=(3, 3),\n",
    "                 activation='relu',\n",
    "                 input_shape=input_shape))\n",
    "\n",
    "model.add(Conv2D(64, (3, 3), activation='relu'))\n",
    "\n",
    "model.add(MaxPooling2D(pool_size=(2, 2)))\n",
    "model.add(BatchNormalization())\n",
    "model.add(Dropout(0.25))\n",
    "model.add(Flatten())\n",
    "\n",
    "model.add(Dense(128, activation='relu'))\n",
    "model.add(BatchNormalization())\n",
    "model.add(Dropout(0.5))\n",
    "model.add(Dense(num_classes, activation='softmax'))\n",
    "\n",
    "model.compile(loss=keras.losses.categorical_crossentropy,\n",
    "              optimizer='adam',\n",
    "              metrics=['accuracy'])\n",
    "\n",
    "history = model.fit(x_train, y_train,\n",
    "          batch_size=batch_size,\n",
    "          epochs=epochs,\n",
    "          verbose=1,\n",
    "          validation_data=(x_test, y_test))"
   ]
  },
  {
   "cell_type": "code",
   "execution_count": 0,
   "metadata": {
    "colab": {
     "base_uri": "https://localhost:8080/",
     "height": 313
    },
    "colab_type": "code",
    "id": "D4Q93i8uZcxx",
    "outputId": "482bcc3b-4ab7-4bb6-e019-029ae69d62f1"
   },
   "outputs": [
    {
     "name": "stdout",
     "output_type": "stream",
     "text": [
      "Test loss: 0.03166750481659692\n",
      "Test accuracy: 0.9915\n"
     ]
    },
    {
     "data": {
      "image/png": "[encoded data removed]",
      "text/plain": [
       "<Figure size 432x288 with 1 Axes>"
      ]
     },
     "metadata": {
      "tags": []
     },
     "output_type": "display_data"
    }
   ],
   "source": [
    "score = model.evaluate(x_test, y_test, verbose=0)\n",
    "print('Test loss:', score[0])\n",
    "print('Test accuracy:', score[1])\n",
    "\n",
    "fig,ax = plt.subplots(1,1)\n",
    "ax.set_xlabel('epoch') ; ax.set_ylabel('Categorical Crossentropy Loss')\n",
    "\n",
    "# list of epoch numbers\n",
    "x = list(range(1,epochs+1))\n",
    "\n",
    "# print(history.history.keys())\n",
    "# dict_keys(['val_loss', 'val_acc', 'loss', 'acc'])\n",
    "# history = model_drop.fit(X_train, Y_train, batch_size=batch_size, epochs=nb_epoch, verbose=1, validation_data=(X_test, Y_test))\n",
    "\n",
    "# we will get val_loss and val_acc only when you pass the paramter validation_data\n",
    "# val_loss : validation loss\n",
    "# val_acc : validation accuracy\n",
    "\n",
    "# loss : training loss\n",
    "# acc : train accuracy\n",
    "# for each key in histrory.histrory we will have a list of length equal to number of epochs\n",
    "\n",
    "vy = history.history['val_loss']\n",
    "ty = history.history['loss']\n",
    "plt_dynamic(x, vy, ty, ax)"
   ]
  },
  {
   "cell_type": "code",
   "execution_count": 0,
   "metadata": {
    "colab": {
     "base_uri": "https://localhost:8080/",
     "height": 442
    },
    "colab_type": "code",
    "id": "EypYPgFx-lIQ",
    "outputId": "8f96acc2-4c3b-43b2-ee3b-f4baa345b8a7"
   },
   "outputs": [
    {
     "name": "stdout",
     "output_type": "stream",
     "text": [
      "Train on 60000 samples, validate on 10000 samples\n",
      "Epoch 1/12\n",
      "60000/60000 [==============================] - 178s 3ms/step - loss: 0.1656 - acc: 0.9518 - val_loss: 0.0494 - val_acc: 0.9826\n",
      "Epoch 2/12\n",
      "60000/60000 [==============================] - 178s 3ms/step - loss: 0.0625 - acc: 0.9814 - val_loss: 0.0562 - val_acc: 0.9820\n",
      "Epoch 3/12\n",
      "60000/60000 [==============================] - 177s 3ms/step - loss: 0.0461 - acc: 0.9863 - val_loss: 0.0590 - val_acc: 0.9797\n",
      "Epoch 4/12\n",
      "60000/60000 [==============================] - 179s 3ms/step - loss: 0.0367 - acc: 0.9888 - val_loss: 0.0344 - val_acc: 0.9895\n",
      "Epoch 5/12\n",
      "60000/60000 [==============================] - 179s 3ms/step - loss: 0.0314 - acc: 0.9896 - val_loss: 0.0344 - val_acc: 0.9895\n",
      "Epoch 6/12\n",
      "60000/60000 [==============================] - 179s 3ms/step - loss: 0.0273 - acc: 0.9910 - val_loss: 0.0301 - val_acc: 0.9908\n",
      "Epoch 7/12\n",
      "60000/60000 [==============================] - 179s 3ms/step - loss: 0.0204 - acc: 0.9938 - val_loss: 0.0305 - val_acc: 0.9907\n",
      "Epoch 8/12\n",
      "60000/60000 [==============================] - 179s 3ms/step - loss: 0.0204 - acc: 0.9933 - val_loss: 0.0264 - val_acc: 0.9918\n",
      "Epoch 9/12\n",
      "60000/60000 [==============================] - 179s 3ms/step - loss: 0.0172 - acc: 0.9943 - val_loss: 0.0280 - val_acc: 0.9911\n",
      "Epoch 10/12\n",
      "60000/60000 [==============================] - 178s 3ms/step - loss: 0.0179 - acc: 0.9942 - val_loss: 0.0318 - val_acc: 0.9910\n",
      "Epoch 11/12\n",
      "60000/60000 [==============================] - 177s 3ms/step - loss: 0.0158 - acc: 0.9952 - val_loss: 0.0288 - val_acc: 0.9920\n",
      "Epoch 12/12\n",
      "60000/60000 [==============================] - 178s 3ms/step - loss: 0.0140 - acc: 0.9955 - val_loss: 0.0312 - val_acc: 0.9915\n"
     ]
    }
   ],
   "source": [
    "# 2 ConvNet layers of kernel size (3,3) with adam optimizer with BN with strides = (2,2)\n",
    "\n",
    "from keras.layers.normalization import BatchNormalization\n",
    "\n",
    "model = Sequential()\n",
    "\n",
    "model.add(Conv2D(32, kernel_size=(3, 3),\n",
    "                 activation='relu',\n",
    "                 input_shape=input_shape))\n",
    "\n",
    "model.add(Conv2D(64, (3, 3), activation='relu'))\n",
    "\n",
    "model.add(MaxPooling2D(pool_size=(2, 2), strides=(2,2)))\n",
    "model.add(BatchNormalization())\n",
    "model.add(Dropout(0.25))\n",
    "model.add(Flatten())\n",
    "\n",
    "model.add(Dense(128, activation='relu'))\n",
    "model.add(BatchNormalization())\n",
    "model.add(Dropout(0.5))\n",
    "model.add(Dense(num_classes, activation='softmax'))\n",
    "\n",
    "model.compile(loss=keras.losses.categorical_crossentropy,\n",
    "              optimizer='adam',\n",
    "              metrics=['accuracy'])\n",
    "\n",
    "history = model.fit(x_train, y_train,\n",
    "          batch_size=batch_size,\n",
    "          epochs=epochs,\n",
    "          verbose=1,\n",
    "          validation_data=(x_test, y_test))"
   ]
  },
  {
   "cell_type": "code",
   "execution_count": 0,
   "metadata": {
    "colab": {
     "base_uri": "https://localhost:8080/",
     "height": 313
    },
    "colab_type": "code",
    "id": "c3drBOs1-0T3",
    "outputId": "a7f7d0c3-3fa0-4e3c-d40f-67b8d5e2eabf"
   },
   "outputs": [
    {
     "name": "stdout",
     "output_type": "stream",
     "text": [
      "Test loss: 0.031174442245866886\n",
      "Test accuracy: 0.9915\n"
     ]
    },
    {
     "data": {
      "image/png": "[encoded data removed]",
      "text/plain": [
       "<Figure size 432x288 with 1 Axes>"
      ]
     },
     "metadata": {
      "tags": []
     },
     "output_type": "display_data"
    }
   ],
   "source": [
    "score = model.evaluate(x_test, y_test, verbose=0)\n",
    "print('Test loss:', score[0])\n",
    "print('Test accuracy:', score[1])\n",
    "\n",
    "fig,ax = plt.subplots(1,1)\n",
    "ax.set_xlabel('epoch') ; ax.set_ylabel('Categorical Crossentropy Loss')\n",
    "\n",
    "# list of epoch numbers\n",
    "x = list(range(1,epochs+1))\n",
    "\n",
    "# print(history.history.keys())\n",
    "# dict_keys(['val_loss', 'val_acc', 'loss', 'acc'])\n",
    "# history = model_drop.fit(X_train, Y_train, batch_size=batch_size, epochs=nb_epoch, verbose=1, validation_data=(X_test, Y_test))\n",
    "\n",
    "# we will get val_loss and val_acc only when you pass the paramter validation_data\n",
    "# val_loss : validation loss\n",
    "# val_acc : validation accuracy\n",
    "\n",
    "# loss : training loss\n",
    "# acc : train accuracy\n",
    "# for each key in histrory.histrory we will have a list of length equal to number of epochs\n",
    "\n",
    "vy = history.history['val_loss']\n",
    "ty = history.history['loss']\n",
    "plt_dynamic(x, vy, ty, ax)"
   ]
  },
  {
   "cell_type": "code",
   "execution_count": 0,
   "metadata": {
    "colab": {
     "base_uri": "https://localhost:8080/",
     "height": 1000
    },
    "colab_type": "code",
    "id": "CSzX9oaN-2Cq",
    "outputId": "9f2e0e25-ad89-450a-824d-c03820d36b06"
   },
   "outputs": [
    {
     "name": "stdout",
     "output_type": "stream",
     "text": [
      "WARNING:tensorflow:From /usr/local/lib/python3.6/dist-packages/keras/backend/tensorflow_backend.py:66: The name tf.get_default_graph is deprecated. Please use tf.compat.v1.get_default_graph instead.\n",
      "\n",
      "WARNING:tensorflow:From /usr/local/lib/python3.6/dist-packages/keras/backend/tensorflow_backend.py:541: The name tf.placeholder is deprecated. Please use tf.compat.v1.placeholder instead.\n",
      "\n",
      "WARNING:tensorflow:From /usr/local/lib/python3.6/dist-packages/keras/backend/tensorflow_backend.py:4432: The name tf.random_uniform is deprecated. Please use tf.random.uniform instead.\n",
      "\n",
      "WARNING:tensorflow:From /usr/local/lib/python3.6/dist-packages/keras/backend/tensorflow_backend.py:4267: The name tf.nn.max_pool is deprecated. Please use tf.nn.max_pool2d instead.\n",
      "\n",
      "WARNING:tensorflow:From /usr/local/lib/python3.6/dist-packages/keras/backend/tensorflow_backend.py:190: The name tf.get_default_session is deprecated. Please use tf.compat.v1.get_default_session instead.\n",
      "\n",
      "WARNING:tensorflow:From /usr/local/lib/python3.6/dist-packages/keras/backend/tensorflow_backend.py:197: The name tf.ConfigProto is deprecated. Please use tf.compat.v1.ConfigProto instead.\n",
      "\n",
      "WARNING:tensorflow:From /usr/local/lib/python3.6/dist-packages/keras/backend/tensorflow_backend.py:203: The name tf.Session is deprecated. Please use tf.compat.v1.Session instead.\n",
      "\n",
      "WARNING:tensorflow:From /usr/local/lib/python3.6/dist-packages/keras/backend/tensorflow_backend.py:207: The name tf.global_variables is deprecated. Please use tf.compat.v1.global_variables instead.\n",
      "\n",
      "WARNING:tensorflow:From /usr/local/lib/python3.6/dist-packages/keras/backend/tensorflow_backend.py:216: The name tf.is_variable_initialized is deprecated. Please use tf.compat.v1.is_variable_initialized instead.\n",
      "\n",
      "WARNING:tensorflow:From /usr/local/lib/python3.6/dist-packages/keras/backend/tensorflow_backend.py:223: The name tf.variables_initializer is deprecated. Please use tf.compat.v1.variables_initializer instead.\n",
      "\n",
      "WARNING:tensorflow:From /usr/local/lib/python3.6/dist-packages/keras/backend/tensorflow_backend.py:2041: The name tf.nn.fused_batch_norm is deprecated. Please use tf.compat.v1.nn.fused_batch_norm instead.\n",
      "\n",
      "WARNING:tensorflow:From /usr/local/lib/python3.6/dist-packages/keras/backend/tensorflow_backend.py:148: The name tf.placeholder_with_default is deprecated. Please use tf.compat.v1.placeholder_with_default instead.\n",
      "\n",
      "WARNING:tensorflow:From /usr/local/lib/python3.6/dist-packages/keras/backend/tensorflow_backend.py:3733: calling dropout (from tensorflow.python.ops.nn_ops) with keep_prob is deprecated and will be removed in a future version.\n",
      "Instructions for updating:\n",
      "Please use `rate` instead of `keep_prob`. Rate should be set to `rate = 1 - keep_prob`.\n",
      "WARNING:tensorflow:From /usr/local/lib/python3.6/dist-packages/keras/optimizers.py:793: The name tf.train.Optimizer is deprecated. Please use tf.compat.v1.train.Optimizer instead.\n",
      "\n",
      "WARNING:tensorflow:From /usr/local/lib/python3.6/dist-packages/keras/backend/tensorflow_backend.py:3576: The name tf.log is deprecated. Please use tf.math.log instead.\n",
      "\n",
      "WARNING:tensorflow:From /usr/local/lib/python3.6/dist-packages/tensorflow_core/python/ops/math_grad.py:1424: where (from tensorflow.python.ops.array_ops) is deprecated and will be removed in a future version.\n",
      "Instructions for updating:\n",
      "Use tf.where in 2.0, which has the same broadcast rule as np.where\n",
      "WARNING:tensorflow:From /usr/local/lib/python3.6/dist-packages/keras/backend/tensorflow_backend.py:1033: The name tf.assign_add is deprecated. Please use tf.compat.v1.assign_add instead.\n",
      "\n",
      "WARNING:tensorflow:From /usr/local/lib/python3.6/dist-packages/keras/backend/tensorflow_backend.py:1020: The name tf.assign is deprecated. Please use tf.compat.v1.assign instead.\n",
      "\n",
      "Train on 60000 samples, validate on 10000 samples\n",
      "Epoch 1/12\n",
      "60000/60000 [==============================] - 313s 5ms/step - loss: 0.2469 - acc: 0.9249 - val_loss: 0.0574 - val_acc: 0.9816\n",
      "Epoch 2/12\n",
      "60000/60000 [==============================] - 304s 5ms/step - loss: 0.0811 - acc: 0.9762 - val_loss: 0.0498 - val_acc: 0.9840\n",
      "Epoch 3/12\n",
      "60000/60000 [==============================] - 291s 5ms/step - loss: 0.0581 - acc: 0.9823 - val_loss: 0.0384 - val_acc: 0.9879\n",
      "Epoch 4/12\n",
      "60000/60000 [==============================] - 289s 5ms/step - loss: 0.0479 - acc: 0.9861 - val_loss: 0.0321 - val_acc: 0.9908\n",
      "Epoch 5/12\n",
      "60000/60000 [==============================] - 290s 5ms/step - loss: 0.0394 - acc: 0.9882 - val_loss: 0.0286 - val_acc: 0.9906\n",
      "Epoch 6/12\n",
      "60000/60000 [==============================] - 286s 5ms/step - loss: 0.0320 - acc: 0.9902 - val_loss: 0.0427 - val_acc: 0.9882\n",
      "Epoch 7/12\n",
      "60000/60000 [==============================] - 289s 5ms/step - loss: 0.0293 - acc: 0.9900 - val_loss: 0.0442 - val_acc: 0.9868\n",
      "Epoch 8/12\n",
      "60000/60000 [==============================] - 285s 5ms/step - loss: 0.0226 - acc: 0.9932 - val_loss: 0.0279 - val_acc: 0.9917\n",
      "Epoch 9/12\n",
      "60000/60000 [==============================] - 284s 5ms/step - loss: 0.0228 - acc: 0.9926 - val_loss: 0.0413 - val_acc: 0.9881\n",
      "Epoch 10/12\n",
      "60000/60000 [==============================] - 285s 5ms/step - loss: 0.0216 - acc: 0.9933 - val_loss: 0.0419 - val_acc: 0.9899\n",
      "Epoch 11/12\n",
      "60000/60000 [==============================] - 287s 5ms/step - loss: 0.0186 - acc: 0.9940 - val_loss: 0.0351 - val_acc: 0.9908\n",
      "Epoch 12/12\n",
      "60000/60000 [==============================] - 288s 5ms/step - loss: 0.0158 - acc: 0.9948 - val_loss: 0.0429 - val_acc: 0.9894\n"
     ]
    }
   ],
   "source": [
    "# 2 ConvNet layers of kernel size (3,3) with adam optimizer with BN with strides = (1,1) and additional 256 dense layer\n",
    "\n",
    "from keras.layers.normalization import BatchNormalization\n",
    "\n",
    "model = Sequential()\n",
    "\n",
    "model.add(Conv2D(32, kernel_size=(3, 3),\n",
    "                 activation='relu',\n",
    "                 input_shape=input_shape))\n",
    "\n",
    "model.add(Conv2D(64, (3, 3), activation='relu'))\n",
    "\n",
    "model.add(MaxPooling2D(pool_size=(2, 2), strides=(1,1)))\n",
    "model.add(BatchNormalization())\n",
    "model.add(Dropout(0.25))\n",
    "model.add(Flatten())\n",
    "\n",
    "model.add(Dense(128, activation='relu'))\n",
    "model.add(BatchNormalization())\n",
    "model.add(Dropout(0.5))\n",
    "\n",
    "model.add(Dense(256, activation='relu'))\n",
    "model.add(BatchNormalization())\n",
    "model.add(Dropout(0.5))\n",
    "\n",
    "model.add(Dense(num_classes, activation='softmax'))\n",
    "\n",
    "model.compile(loss=keras.losses.categorical_crossentropy,\n",
    "              optimizer='adam',\n",
    "              metrics=['accuracy'])\n",
    "\n",
    "history = model.fit(x_train, y_train,\n",
    "          batch_size=batch_size,\n",
    "          epochs=epochs,\n",
    "          verbose=1,\n",
    "          validation_data=(x_test, y_test))"
   ]
  },
  {
   "cell_type": "code",
   "execution_count": 0,
   "metadata": {
    "colab": {
     "base_uri": "https://localhost:8080/",
     "height": 313
    },
    "colab_type": "code",
    "id": "IFkSX6HF-2Tr",
    "outputId": "cce88954-1d50-44e1-a2f0-7e36da9f3f7a"
   },
   "outputs": [
    {
     "name": "stdout",
     "output_type": "stream",
     "text": [
      "Test loss: 0.042936010688127135\n",
      "Test accuracy: 0.9894\n"
     ]
    },
    {
     "data": {
      "image/png": "[encoded data removed]",
      "text/plain": [
       "<Figure size 432x288 with 1 Axes>"
      ]
     },
     "metadata": {
      "tags": []
     },
     "output_type": "display_data"
    }
   ],
   "source": [
    "score = model.evaluate(x_test, y_test, verbose=0)\n",
    "print('Test loss:', score[0])\n",
    "print('Test accuracy:', score[1])\n",
    "\n",
    "fig,ax = plt.subplots(1,1)\n",
    "ax.set_xlabel('epoch') ; ax.set_ylabel('Categorical Crossentropy Loss')\n",
    "\n",
    "# list of epoch numbers\n",
    "x = list(range(1,epochs+1))\n",
    "\n",
    "# print(history.history.keys())\n",
    "# dict_keys(['val_loss', 'val_acc', 'loss', 'acc'])\n",
    "# history = model_drop.fit(X_train, Y_train, batch_size=batch_size, epochs=nb_epoch, verbose=1, validation_data=(X_test, Y_test))\n",
    "\n",
    "# we will get val_loss and val_acc only when you pass the paramter validation_data\n",
    "# val_loss : validation loss\n",
    "# val_acc : validation accuracy\n",
    "\n",
    "# loss : training loss\n",
    "# acc : train accuracy\n",
    "# for each key in histrory.histrory we will have a list of length equal to number of epochs\n",
    "\n",
    "vy = history.history['val_loss']\n",
    "ty = history.history['loss']\n",
    "plt_dynamic(x, vy, ty, ax)"
   ]
  },
  {
   "cell_type": "code",
   "execution_count": 0,
   "metadata": {
    "colab": {
     "base_uri": "https://localhost:8080/",
     "height": 442
    },
    "colab_type": "code",
    "id": "kgt3Ym_O-28j",
    "outputId": "5d9291f3-dde6-4355-90f5-09e7212ec2ac"
   },
   "outputs": [
    {
     "name": "stdout",
     "output_type": "stream",
     "text": [
      "Train on 60000 samples, validate on 10000 samples\n",
      "Epoch 1/12\n",
      "60000/60000 [==============================] - 176s 3ms/step - loss: 0.2580 - acc: 0.9222 - val_loss: 0.0693 - val_acc: 0.9785\n",
      "Epoch 2/12\n",
      "60000/60000 [==============================] - 173s 3ms/step - loss: 0.0870 - acc: 0.9741 - val_loss: 0.0385 - val_acc: 0.9880\n",
      "Epoch 3/12\n",
      "60000/60000 [==============================] - 172s 3ms/step - loss: 0.0666 - acc: 0.9802 - val_loss: 0.0460 - val_acc: 0.9861\n",
      "Epoch 4/12\n",
      "60000/60000 [==============================] - 171s 3ms/step - loss: 0.0543 - acc: 0.9828 - val_loss: 0.0354 - val_acc: 0.9894\n",
      "Epoch 5/12\n",
      "60000/60000 [==============================] - 174s 3ms/step - loss: 0.0447 - acc: 0.9862 - val_loss: 0.0291 - val_acc: 0.9905\n",
      "Epoch 6/12\n",
      "60000/60000 [==============================] - 174s 3ms/step - loss: 0.0371 - acc: 0.9884 - val_loss: 0.0309 - val_acc: 0.9904\n",
      "Epoch 7/12\n",
      "60000/60000 [==============================] - 175s 3ms/step - loss: 0.0336 - acc: 0.9895 - val_loss: 0.0316 - val_acc: 0.9913\n",
      "Epoch 8/12\n",
      "60000/60000 [==============================] - 173s 3ms/step - loss: 0.0308 - acc: 0.9901 - val_loss: 0.0353 - val_acc: 0.9894\n",
      "Epoch 9/12\n",
      "60000/60000 [==============================] - 173s 3ms/step - loss: 0.0295 - acc: 0.9910 - val_loss: 0.0458 - val_acc: 0.9876\n",
      "Epoch 10/12\n",
      "60000/60000 [==============================] - 173s 3ms/step - loss: 0.0266 - acc: 0.9915 - val_loss: 0.0372 - val_acc: 0.9905\n",
      "Epoch 11/12\n",
      "60000/60000 [==============================] - 172s 3ms/step - loss: 0.0260 - acc: 0.9915 - val_loss: 0.0335 - val_acc: 0.9896\n",
      "Epoch 12/12\n",
      "60000/60000 [==============================] - 174s 3ms/step - loss: 0.0214 - acc: 0.9930 - val_loss: 0.0310 - val_acc: 0.9910\n"
     ]
    }
   ],
   "source": [
    "# 2 ConvNet layers of kernel size (3,3) with adam optimizer with BN with strides = (2,2) and additional 256 dense layer\n",
    "\n",
    "from keras.layers.normalization import BatchNormalization\n",
    "\n",
    "model = Sequential()\n",
    "\n",
    "model.add(Conv2D(32, kernel_size=(3, 3),\n",
    "                 activation='relu',\n",
    "                 input_shape=input_shape))\n",
    "\n",
    "model.add(Conv2D(64, (3, 3), activation='relu'))\n",
    "\n",
    "model.add(MaxPooling2D(pool_size=(2, 2), strides=(2,2)))\n",
    "model.add(BatchNormalization())\n",
    "model.add(Dropout(0.25))\n",
    "model.add(Flatten())\n",
    "\n",
    "model.add(Dense(128, activation='relu'))\n",
    "model.add(BatchNormalization())\n",
    "model.add(Dropout(0.5))\n",
    "\n",
    "model.add(Dense(256, activation='relu'))\n",
    "model.add(BatchNormalization())\n",
    "model.add(Dropout(0.5))\n",
    "\n",
    "model.add(Dense(num_classes, activation='softmax'))\n",
    "\n",
    "model.compile(loss=keras.losses.categorical_crossentropy,\n",
    "              optimizer='adam',\n",
    "              metrics=['accuracy'])\n",
    "\n",
    "history = model.fit(x_train, y_train,\n",
    "          batch_size=batch_size,\n",
    "          epochs=epochs,\n",
    "          verbose=1,\n",
    "          validation_data=(x_test, y_test))"
   ]
  },
  {
   "cell_type": "code",
   "execution_count": 0,
   "metadata": {
    "colab": {
     "base_uri": "https://localhost:8080/",
     "height": 313
    },
    "colab_type": "code",
    "id": "61m9z2Ad-3OO",
    "outputId": "5772bad4-900c-4947-9032-0f5c16baf5df"
   },
   "outputs": [
    {
     "name": "stdout",
     "output_type": "stream",
     "text": [
      "Test loss: 0.03103352297358324\n",
      "Test accuracy: 0.991\n"
     ]
    },
    {
     "data": {
      "image/png": "[encoded data removed]",
      "text/plain": [
       "<Figure size 432x288 with 1 Axes>"
      ]
     },
     "metadata": {
      "tags": []
     },
     "output_type": "display_data"
    }
   ],
   "source": [
    "score = model.evaluate(x_test, y_test, verbose=0)\n",
    "print('Test loss:', score[0])\n",
    "print('Test accuracy:', score[1])\n",
    "\n",
    "fig,ax = plt.subplots(1,1)\n",
    "ax.set_xlabel('epoch') ; ax.set_ylabel('Categorical Crossentropy Loss')\n",
    "\n",
    "# list of epoch numbers\n",
    "x = list(range(1,epochs+1))\n",
    "\n",
    "# print(history.history.keys())\n",
    "# dict_keys(['val_loss', 'val_acc', 'loss', 'acc'])\n",
    "# history = model_drop.fit(X_train, Y_train, batch_size=batch_size, epochs=nb_epoch, verbose=1, validation_data=(X_test, Y_test))\n",
    "\n",
    "# we will get val_loss and val_acc only when you pass the paramter validation_data\n",
    "# val_loss : validation loss\n",
    "# val_acc : validation accuracy\n",
    "\n",
    "# loss : training loss\n",
    "# acc : train accuracy\n",
    "# for each key in histrory.histrory we will have a list of length equal to number of epochs\n",
    "\n",
    "vy = history.history['val_loss']\n",
    "ty = history.history['loss']\n",
    "plt_dynamic(x, vy, ty, ax)"
   ]
  },
  {
   "cell_type": "code",
   "execution_count": 0,
   "metadata": {
    "colab": {
     "base_uri": "https://localhost:8080/",
     "height": 442
    },
    "colab_type": "code",
    "id": "PD3slD4s-5OP",
    "outputId": "a54225b0-1c42-4736-cc5e-eec117f771a1"
   },
   "outputs": [
    {
     "name": "stdout",
     "output_type": "stream",
     "text": [
      "Train on 60000 samples, validate on 10000 samples\n",
      "Epoch 1/12\n",
      "60000/60000 [==============================] - 495s 8ms/step - loss: 0.2389 - acc: 0.9280 - val_loss: 0.0534 - val_acc: 0.9833\n",
      "Epoch 2/12\n",
      "60000/60000 [==============================] - 499s 8ms/step - loss: 0.0767 - acc: 0.9774 - val_loss: 0.0475 - val_acc: 0.9847\n",
      "Epoch 3/12\n",
      "60000/60000 [==============================] - 488s 8ms/step - loss: 0.0572 - acc: 0.9826 - val_loss: 0.0432 - val_acc: 0.9873\n",
      "Epoch 4/12\n",
      "60000/60000 [==============================] - 488s 8ms/step - loss: 0.0492 - acc: 0.9853 - val_loss: 0.0244 - val_acc: 0.9929\n",
      "Epoch 5/12\n",
      "60000/60000 [==============================] - 487s 8ms/step - loss: 0.0398 - acc: 0.9882 - val_loss: 0.0272 - val_acc: 0.9914\n",
      "Epoch 6/12\n",
      "60000/60000 [==============================] - 488s 8ms/step - loss: 0.0350 - acc: 0.9889 - val_loss: 0.0246 - val_acc: 0.9919\n",
      "Epoch 7/12\n",
      "60000/60000 [==============================] - 487s 8ms/step - loss: 0.0295 - acc: 0.9910 - val_loss: 0.0238 - val_acc: 0.9928\n",
      "Epoch 8/12\n",
      "60000/60000 [==============================] - 484s 8ms/step - loss: 0.0255 - acc: 0.9922 - val_loss: 0.0234 - val_acc: 0.9926\n",
      "Epoch 9/12\n",
      "60000/60000 [==============================] - 487s 8ms/step - loss: 0.0233 - acc: 0.9924 - val_loss: 0.0283 - val_acc: 0.9912\n",
      "Epoch 10/12\n",
      "60000/60000 [==============================] - 483s 8ms/step - loss: 0.0213 - acc: 0.9935 - val_loss: 0.0219 - val_acc: 0.9929\n",
      "Epoch 11/12\n",
      "60000/60000 [==============================] - 496s 8ms/step - loss: 0.0197 - acc: 0.9937 - val_loss: 0.0273 - val_acc: 0.9926\n",
      "Epoch 12/12\n",
      "60000/60000 [==============================] - 501s 8ms/step - loss: 0.0180 - acc: 0.9945 - val_loss: 0.0309 - val_acc: 0.9925\n"
     ]
    }
   ],
   "source": [
    "# 3 ConvNet layers of kernel size (3,3) with adam optimizer with BN with strides = (2,2) and additional 256 dense layer\n",
    "\n",
    "from keras.layers.normalization import BatchNormalization\n",
    "\n",
    "model = Sequential()\n",
    "\n",
    "model.add(Conv2D(32, kernel_size=(3, 3),\n",
    "                 activation='relu',\n",
    "                 input_shape=input_shape))\n",
    "\n",
    "model.add(Conv2D(64, (3, 3), activation='relu'))\n",
    "\n",
    "model.add(Conv2D(128, (3, 3), activation='relu'))\n",
    "\n",
    "model.add(MaxPooling2D(pool_size=(2, 2), strides=(2,2)))\n",
    "model.add(BatchNormalization())\n",
    "model.add(Dropout(0.25))\n",
    "model.add(Flatten())\n",
    "\n",
    "model.add(Dense(128, activation='relu'))\n",
    "model.add(BatchNormalization())\n",
    "model.add(Dropout(0.5))\n",
    "\n",
    "model.add(Dense(256, activation='relu'))\n",
    "model.add(BatchNormalization())\n",
    "model.add(Dropout(0.5))\n",
    "\n",
    "model.add(Dense(num_classes, activation='softmax'))\n",
    "\n",
    "model.compile(loss=keras.losses.categorical_crossentropy,\n",
    "              optimizer='adam',\n",
    "              metrics=['accuracy'])\n",
    "\n",
    "history = model.fit(x_train, y_train,\n",
    "          batch_size=batch_size,\n",
    "          epochs=epochs,\n",
    "          verbose=1,\n",
    "          validation_data=(x_test, y_test))"
   ]
  },
  {
   "cell_type": "code",
   "execution_count": 0,
   "metadata": {
    "colab": {
     "base_uri": "https://localhost:8080/",
     "height": 313
    },
    "colab_type": "code",
    "id": "-kzYxK32-5p4",
    "outputId": "81a7c1d5-d103-49ae-c4c7-0137df53fa30"
   },
   "outputs": [
    {
     "name": "stdout",
     "output_type": "stream",
     "text": [
      "Test loss: 0.03090731922862178\n",
      "Test accuracy: 0.9925\n"
     ]
    },
    {
     "data": {
      "image/png": "[encoded data removed]",
      "text/plain": [
       "<Figure size 432x288 with 1 Axes>"
      ]
     },
     "metadata": {
      "tags": []
     },
     "output_type": "display_data"
    }
   ],
   "source": [
    "score = model.evaluate(x_test, y_test, verbose=0)\n",
    "print('Test loss:', score[0])\n",
    "print('Test accuracy:', score[1])\n",
    "\n",
    "fig,ax = plt.subplots(1,1)\n",
    "ax.set_xlabel('epoch') ; ax.set_ylabel('Categorical Crossentropy Loss')\n",
    "\n",
    "# list of epoch numbers\n",
    "x = list(range(1,epochs+1))\n",
    "\n",
    "# print(history.history.keys())\n",
    "# dict_keys(['val_loss', 'val_acc', 'loss', 'acc'])\n",
    "# history = model_drop.fit(X_train, Y_train, batch_size=batch_size, epochs=nb_epoch, verbose=1, validation_data=(X_test, Y_test))\n",
    "\n",
    "# we will get val_loss and val_acc only when you pass the paramter validation_data\n",
    "# val_loss : validation loss\n",
    "# val_acc : validation accuracy\n",
    "\n",
    "# loss : training loss\n",
    "# acc : train accuracy\n",
    "# for each key in histrory.histrory we will have a list of length equal to number of epochs\n",
    "\n",
    "vy = history.history['val_loss']\n",
    "ty = history.history['loss']\n",
    "plt_dynamic(x, vy, ty, ax)"
   ]
  },
  {
   "cell_type": "code",
   "execution_count": 4,
   "metadata": {
    "colab": {
     "base_uri": "https://localhost:8080/",
     "height": 972
    },
    "colab_type": "code",
    "id": "Fcp3zt4TCJfP",
    "outputId": "46b78f40-7abf-449e-b560-85c8279fcbfd"
   },
   "outputs": [
    {
     "name": "stdout",
     "output_type": "stream",
     "text": [
      "WARNING:tensorflow:From /usr/local/lib/python3.6/dist-packages/keras/backend/tensorflow_backend.py:66: The name tf.get_default_graph is deprecated. Please use tf.compat.v1.get_default_graph instead.\n",
      "\n",
      "WARNING:tensorflow:From /usr/local/lib/python3.6/dist-packages/keras/backend/tensorflow_backend.py:541: The name tf.placeholder is deprecated. Please use tf.compat.v1.placeholder instead.\n",
      "\n",
      "WARNING:tensorflow:From /usr/local/lib/python3.6/dist-packages/keras/backend/tensorflow_backend.py:4432: The name tf.random_uniform is deprecated. Please use tf.random.uniform instead.\n",
      "\n",
      "WARNING:tensorflow:From /usr/local/lib/python3.6/dist-packages/keras/backend/tensorflow_backend.py:4267: The name tf.nn.max_pool is deprecated. Please use tf.nn.max_pool2d instead.\n",
      "\n",
      "WARNING:tensorflow:From /usr/local/lib/python3.6/dist-packages/keras/backend/tensorflow_backend.py:190: The name tf.get_default_session is deprecated. Please use tf.compat.v1.get_default_session instead.\n",
      "\n",
      "WARNING:tensorflow:From /usr/local/lib/python3.6/dist-packages/keras/backend/tensorflow_backend.py:197: The name tf.ConfigProto is deprecated. Please use tf.compat.v1.ConfigProto instead.\n",
      "\n",
      "WARNING:tensorflow:From /usr/local/lib/python3.6/dist-packages/keras/backend/tensorflow_backend.py:203: The name tf.Session is deprecated. Please use tf.compat.v1.Session instead.\n",
      "\n",
      "WARNING:tensorflow:From /usr/local/lib/python3.6/dist-packages/keras/backend/tensorflow_backend.py:207: The name tf.global_variables is deprecated. Please use tf.compat.v1.global_variables instead.\n",
      "\n",
      "WARNING:tensorflow:From /usr/local/lib/python3.6/dist-packages/keras/backend/tensorflow_backend.py:216: The name tf.is_variable_initialized is deprecated. Please use tf.compat.v1.is_variable_initialized instead.\n",
      "\n",
      "WARNING:tensorflow:From /usr/local/lib/python3.6/dist-packages/keras/backend/tensorflow_backend.py:223: The name tf.variables_initializer is deprecated. Please use tf.compat.v1.variables_initializer instead.\n",
      "\n",
      "WARNING:tensorflow:From /usr/local/lib/python3.6/dist-packages/keras/backend/tensorflow_backend.py:2041: The name tf.nn.fused_batch_norm is deprecated. Please use tf.compat.v1.nn.fused_batch_norm instead.\n",
      "\n",
      "WARNING:tensorflow:From /usr/local/lib/python3.6/dist-packages/keras/backend/tensorflow_backend.py:148: The name tf.placeholder_with_default is deprecated. Please use tf.compat.v1.placeholder_with_default instead.\n",
      "\n",
      "WARNING:tensorflow:From /usr/local/lib/python3.6/dist-packages/keras/backend/tensorflow_backend.py:3733: calling dropout (from tensorflow.python.ops.nn_ops) with keep_prob is deprecated and will be removed in a future version.\n",
      "Instructions for updating:\n",
      "Please use `rate` instead of `keep_prob`. Rate should be set to `rate = 1 - keep_prob`.\n",
      "WARNING:tensorflow:From /usr/local/lib/python3.6/dist-packages/keras/optimizers.py:793: The name tf.train.Optimizer is deprecated. Please use tf.compat.v1.train.Optimizer instead.\n",
      "\n",
      "WARNING:tensorflow:From /usr/local/lib/python3.6/dist-packages/keras/backend/tensorflow_backend.py:3576: The name tf.log is deprecated. Please use tf.math.log instead.\n",
      "\n",
      "WARNING:tensorflow:From /usr/local/lib/python3.6/dist-packages/tensorflow_core/python/ops/math_grad.py:1424: where (from tensorflow.python.ops.array_ops) is deprecated and will be removed in a future version.\n",
      "Instructions for updating:\n",
      "Use tf.where in 2.0, which has the same broadcast rule as np.where\n",
      "WARNING:tensorflow:From /usr/local/lib/python3.6/dist-packages/keras/backend/tensorflow_backend.py:1033: The name tf.assign_add is deprecated. Please use tf.compat.v1.assign_add instead.\n",
      "\n",
      "WARNING:tensorflow:From /usr/local/lib/python3.6/dist-packages/keras/backend/tensorflow_backend.py:1020: The name tf.assign is deprecated. Please use tf.compat.v1.assign instead.\n",
      "\n",
      "Train on 60000 samples, validate on 10000 samples\n",
      "Epoch 1/8\n",
      "60000/60000 [==============================] - 739s 12ms/step - loss: 0.2311 - acc: 0.9309 - val_loss: 0.0416 - val_acc: 0.9873\n",
      "Epoch 2/8\n",
      "60000/60000 [==============================] - 732s 12ms/step - loss: 0.0689 - acc: 0.9797 - val_loss: 0.0310 - val_acc: 0.9906\n",
      "Epoch 3/8\n",
      "60000/60000 [==============================] - 737s 12ms/step - loss: 0.0539 - acc: 0.9841 - val_loss: 0.0409 - val_acc: 0.9875\n",
      "Epoch 4/8\n",
      "60000/60000 [==============================] - 728s 12ms/step - loss: 0.0422 - acc: 0.9873 - val_loss: 0.0327 - val_acc: 0.9884\n",
      "Epoch 5/8\n",
      "60000/60000 [==============================] - 728s 12ms/step - loss: 0.0373 - acc: 0.9893 - val_loss: 0.0312 - val_acc: 0.9903\n",
      "Epoch 6/8\n",
      "60000/60000 [==============================] - 714s 12ms/step - loss: 0.0312 - acc: 0.9908 - val_loss: 0.0280 - val_acc: 0.9917\n",
      "Epoch 7/8\n",
      "60000/60000 [==============================] - 655s 11ms/step - loss: 0.0291 - acc: 0.9917 - val_loss: 0.0238 - val_acc: 0.9933\n",
      "Epoch 8/8\n",
      "60000/60000 [==============================] - 650s 11ms/step - loss: 0.0265 - acc: 0.9920 - val_loss: 0.0197 - val_acc: 0.9944\n"
     ]
    }
   ],
   "source": [
    "# 3 ConvNet layers of kernel size (5,5) with adam optimizer with BN with strides = (2,2) and additional 256 dense layer\n",
    "\n",
    "# reduce no. of epochs\n",
    "epochs = 8\n",
    "\n",
    "from keras.layers.normalization import BatchNormalization\n",
    "\n",
    "model = Sequential()\n",
    "\n",
    "model.add(Conv2D(32, kernel_size=(5, 5),\n",
    "                 activation='relu',\n",
    "                 input_shape=input_shape))\n",
    "\n",
    "model.add(Conv2D(64, (5, 5), activation='relu'))\n",
    "\n",
    "model.add(Conv2D(128, (5, 5), activation='relu'))\n",
    "\n",
    "model.add(MaxPooling2D(pool_size=(2, 2), strides=(2,2)))\n",
    "model.add(BatchNormalization())\n",
    "model.add(Dropout(0.25))\n",
    "model.add(Flatten())\n",
    "\n",
    "model.add(Dense(128, activation='relu'))\n",
    "model.add(BatchNormalization())\n",
    "model.add(Dropout(0.5))\n",
    "\n",
    "model.add(Dense(256, activation='relu'))\n",
    "model.add(BatchNormalization())\n",
    "model.add(Dropout(0.5))\n",
    "\n",
    "model.add(Dense(num_classes, activation='softmax'))\n",
    "\n",
    "model.compile(loss=keras.losses.categorical_crossentropy,\n",
    "              optimizer='adam',\n",
    "              metrics=['accuracy'])\n",
    "\n",
    "history = model.fit(x_train, y_train,\n",
    "          batch_size=batch_size,\n",
    "          epochs=epochs,\n",
    "          verbose=1,\n",
    "          validation_data=(x_test, y_test))"
   ]
  },
  {
   "cell_type": "code",
   "execution_count": 5,
   "metadata": {
    "colab": {
     "base_uri": "https://localhost:8080/",
     "height": 313
    },
    "colab_type": "code",
    "id": "iWkkgGlICZwV",
    "outputId": "19d7af12-fadf-458a-ec4c-6d49562bcf6c"
   },
   "outputs": [
    {
     "name": "stdout",
     "output_type": "stream",
     "text": [
      "Test loss: 0.0196711675114595\n",
      "Test accuracy: 0.9944\n"
     ]
    },
    {
     "data": {
      "image/png": "[encoded data removed]",
      "text/plain": [
       "<Figure size 432x288 with 1 Axes>"
      ]
     },
     "metadata": {
      "tags": []
     },
     "output_type": "display_data"
    }
   ],
   "source": [
    "score = model.evaluate(x_test, y_test, verbose=0)\n",
    "print('Test loss:', score[0])\n",
    "print('Test accuracy:', score[1])\n",
    "\n",
    "fig,ax = plt.subplots(1,1)\n",
    "ax.set_xlabel('epoch') ; ax.set_ylabel('Categorical Crossentropy Loss')\n",
    "\n",
    "# list of epoch numbers\n",
    "x = list(range(1,epochs+1))\n",
    "\n",
    "# print(history.history.keys())\n",
    "# dict_keys(['val_loss', 'val_acc', 'loss', 'acc'])\n",
    "# history = model_drop.fit(X_train, Y_train, batch_size=batch_size, epochs=nb_epoch, verbose=1, validation_data=(X_test, Y_test))\n",
    "\n",
    "# we will get val_loss and val_acc only when you pass the paramter validation_data\n",
    "# val_loss : validation loss\n",
    "# val_acc : validation accuracy\n",
    "\n",
    "# loss : training loss\n",
    "# acc : train accuracy\n",
    "# for each key in histrory.histrory we will have a list of length equal to number of epochs\n",
    "\n",
    "vy = history.history['val_loss']\n",
    "ty = history.history['loss']\n",
    "plt_dynamic(x, vy, ty, ax)"
   ]
  },
  {
   "cell_type": "code",
   "execution_count": 51,
   "metadata": {
    "colab": {
     "base_uri": "https://localhost:8080/",
     "height": 442
    },
    "colab_type": "code",
    "id": "YxBkkp6qFiOk",
    "outputId": "3369da09-2ccd-49c5-9b6d-14ef97a53f43"
   },
   "outputs": [
    {
     "name": "stdout",
     "output_type": "stream",
     "text": [
      "Train on 60000 samples, validate on 10000 samples\n",
      "Epoch 1/12\n",
      "60000/60000 [==============================] - 15s 242us/step - loss: 0.2208 - acc: 0.9338 - val_loss: 0.0694 - val_acc: 0.9786\n",
      "Epoch 2/12\n",
      "60000/60000 [==============================] - 9s 152us/step - loss: 0.0685 - acc: 0.9798 - val_loss: 0.0356 - val_acc: 0.9889\n",
      "Epoch 3/12\n",
      "60000/60000 [==============================] - 9s 154us/step - loss: 0.0517 - acc: 0.9846 - val_loss: 0.0400 - val_acc: 0.9881\n",
      "Epoch 4/12\n",
      "60000/60000 [==============================] - 9s 153us/step - loss: 0.0439 - acc: 0.9870 - val_loss: 0.0283 - val_acc: 0.9913\n",
      "Epoch 5/12\n",
      "60000/60000 [==============================] - 9s 153us/step - loss: 0.0351 - acc: 0.9891 - val_loss: 0.0248 - val_acc: 0.9923\n",
      "Epoch 6/12\n",
      "60000/60000 [==============================] - 10s 159us/step - loss: 0.0302 - acc: 0.9912 - val_loss: 0.0314 - val_acc: 0.9910\n",
      "Epoch 7/12\n",
      "60000/60000 [==============================] - 9s 155us/step - loss: 0.0291 - acc: 0.9911 - val_loss: 0.0227 - val_acc: 0.9923\n",
      "Epoch 8/12\n",
      "60000/60000 [==============================] - 9s 157us/step - loss: 0.0250 - acc: 0.9925 - val_loss: 0.0260 - val_acc: 0.9921\n",
      "Epoch 9/12\n",
      "60000/60000 [==============================] - 9s 157us/step - loss: 0.0239 - acc: 0.9925 - val_loss: 0.0351 - val_acc: 0.9894\n",
      "Epoch 10/12\n",
      "60000/60000 [==============================] - 9s 157us/step - loss: 0.0187 - acc: 0.9940 - val_loss: 0.0211 - val_acc: 0.9944\n",
      "Epoch 11/12\n",
      "60000/60000 [==============================] - 9s 155us/step - loss: 0.0194 - acc: 0.9938 - val_loss: 0.0247 - val_acc: 0.9925\n",
      "Epoch 12/12\n",
      "60000/60000 [==============================] - 9s 153us/step - loss: 0.0172 - acc: 0.9945 - val_loss: 0.0191 - val_acc: 0.9942\n"
     ]
    }
   ],
   "source": [
    "# 3 ConvNet layers of kernel size (7,7) with adam optimizer with BN with strides = (2,2) and additional 256 dense layer\n",
    "\n",
    "# reduce no. of epochs\n",
    "epochs = 12\n",
    "\n",
    "from keras.layers.normalization import BatchNormalization\n",
    "\n",
    "model = Sequential()\n",
    "\n",
    "model.add(Conv2D(32, kernel_size=(5, 5),\n",
    "                 activation='relu',\n",
    "                 input_shape=input_shape))\n",
    "\n",
    "model.add(Conv2D(64, (5, 5), activation='relu'))\n",
    "\n",
    "model.add(Conv2D(128, (5, 5), activation='relu'))\n",
    "\n",
    "model.add(MaxPooling2D(pool_size=(2, 2), strides=(2,2)))\n",
    "model.add(BatchNormalization())\n",
    "model.add(Dropout(0.25))\n",
    "model.add(Flatten())\n",
    "\n",
    "model.add(Dense(128, activation='relu'))\n",
    "model.add(BatchNormalization())\n",
    "model.add(Dropout(0.5))\n",
    "\n",
    "model.add(Dense(256, activation='relu'))\n",
    "model.add(BatchNormalization())\n",
    "model.add(Dropout(0.5))\n",
    "\n",
    "model.add(Dense(num_classes, activation='softmax'))\n",
    "\n",
    "model.compile(loss=keras.losses.categorical_crossentropy,\n",
    "              optimizer='adam',\n",
    "              metrics=['accuracy'])\n",
    "\n",
    "history = model.fit(x_train, y_train,\n",
    "          batch_size=batch_size,\n",
    "          epochs=epochs,\n",
    "          verbose=1,\n",
    "          validation_data=(x_test, y_test))"
   ]
  },
  {
   "cell_type": "code",
   "execution_count": 52,
   "metadata": {
    "colab": {
     "base_uri": "https://localhost:8080/",
     "height": 313
    },
    "colab_type": "code",
    "id": "AOluUgi9FpSL",
    "outputId": "5ded0a59-4342-4c86-8d8e-353980311ad7"
   },
   "outputs": [
    {
     "name": "stdout",
     "output_type": "stream",
     "text": [
      "Test loss: 0.019098179739220858\n",
      "Test accuracy: 0.9942\n"
     ]
    },
    {
     "data": {
      "image/png": "[encoded data removed]",
      "text/plain": [
       "<Figure size 432x288 with 1 Axes>"
      ]
     },
     "metadata": {
      "tags": []
     },
     "output_type": "display_data"
    }
   ],
   "source": [
    "score = model.evaluate(x_test, y_test, verbose=0)\n",
    "print('Test loss:', score[0])\n",
    "print('Test accuracy:', score[1])\n",
    "\n",
    "fig,ax = plt.subplots(1,1)\n",
    "ax.set_xlabel('epoch') ; ax.set_ylabel('Categorical Crossentropy Loss')\n",
    "\n",
    "# list of epoch numbers\n",
    "x = list(range(1,epochs+1))\n",
    "\n",
    "# print(history.history.keys())\n",
    "# dict_keys(['val_loss', 'val_acc', 'loss', 'acc'])\n",
    "# history = model_drop.fit(X_train, Y_train, batch_size=batch_size, epochs=nb_epoch, verbose=1, validation_data=(X_test, Y_test))\n",
    "\n",
    "# we will get val_loss and val_acc only when you pass the paramter validation_data\n",
    "# val_loss : validation loss\n",
    "# val_acc : validation accuracy\n",
    "\n",
    "# loss : training loss\n",
    "# acc : train accuracy\n",
    "# for each key in histrory.histrory we will have a list of length equal to number of epochs\n",
    "\n",
    "vy = history.history['val_loss']\n",
    "ty = history.history['loss']\n",
    "plt_dynamic(x, vy, ty, ax)"
   ]
  },
  {
   "cell_type": "code",
   "execution_count": 8,
   "metadata": {
    "colab": {
     "base_uri": "https://localhost:8080/",
     "height": 102
    },
    "colab_type": "code",
    "id": "CRcxdrIcCaL3",
    "outputId": "a76f9f93-c421-45b6-b07d-f23d49580ea1"
   },
   "outputs": [
    {
     "name": "stdout",
     "output_type": "stream",
     "text": [
      "Train on 60000 samples, validate on 10000 samples\n",
      "Epoch 1/2\n",
      "60000/60000 [==============================] - 3517s 59ms/step - loss: 0.5656 - acc: 0.8249 - val_loss: 0.3798 - val_acc: 0.8786\n",
      "Epoch 2/2\n",
      "60000/60000 [==============================] - 3617s 60ms/step - loss: 0.1398 - acc: 0.9589 - val_loss: 0.0892 - val_acc: 0.9706\n"
     ]
    }
   ],
   "source": [
    "# 5 ConvNet layers of kernel size (5,5) with adam optimizer with BN with strides = (2,2) and additional 256 dense layer\n",
    "\n",
    "# reduce no. of epochs\n",
    "epochs = 2\n",
    "\n",
    "from keras.layers.normalization import BatchNormalization\n",
    "\n",
    "model = Sequential()\n",
    "\n",
    "model.add(Conv2D(32, kernel_size=(5, 5),\n",
    "                 activation='relu',\n",
    "                 input_shape=input_shape))\n",
    "\n",
    "model.add(Conv2D(64, (5, 5), activation='relu'))\n",
    "\n",
    "model.add(Conv2D(128, (5, 5), activation='relu'))\n",
    "\n",
    "model.add(Conv2D(256, (5, 5), activation='relu'))\n",
    "\n",
    "model.add(Conv2D(512, (5, 5), activation='relu'))\n",
    "\n",
    "model.add(MaxPooling2D(pool_size=(2, 2), strides=(2,2)))\n",
    "model.add(BatchNormalization())\n",
    "model.add(Dropout(0.25))\n",
    "model.add(Flatten())\n",
    "\n",
    "model.add(Dense(128, activation='relu'))\n",
    "model.add(BatchNormalization())\n",
    "model.add(Dropout(0.5))\n",
    "\n",
    "model.add(Dense(256, activation='relu'))\n",
    "model.add(BatchNormalization())\n",
    "model.add(Dropout(0.5))\n",
    "\n",
    "model.add(Dense(num_classes, activation='softmax'))\n",
    "\n",
    "model.compile(loss=keras.losses.categorical_crossentropy,\n",
    "              optimizer='adam',\n",
    "              metrics=['accuracy'])\n",
    "\n",
    "history = model.fit(x_train, y_train,\n",
    "          batch_size=batch_size,\n",
    "          epochs=epochs,\n",
    "          verbose=1,\n",
    "          validation_data=(x_test, y_test))"
   ]
  },
  {
   "cell_type": "code",
   "execution_count": 9,
   "metadata": {
    "colab": {
     "base_uri": "https://localhost:8080/",
     "height": 313
    },
    "colab_type": "code",
    "id": "qoeQ2UHeCpwG",
    "outputId": "8cfd26a1-dd89-463e-abaf-797f61fbe46b"
   },
   "outputs": [
    {
     "name": "stdout",
     "output_type": "stream",
     "text": [
      "Test loss: 0.08924943232676014\n",
      "Test accuracy: 0.9706\n"
     ]
    },
    {
     "data": {
      "image/png": "[encoded data removed]",
      "text/plain": [
       "<Figure size 432x288 with 1 Axes>"
      ]
     },
     "metadata": {
      "tags": []
     },
     "output_type": "display_data"
    }
   ],
   "source": [
    "score = model.evaluate(x_test, y_test, verbose=0)\n",
    "print('Test loss:', score[0])\n",
    "print('Test accuracy:', score[1])\n",
    "\n",
    "fig,ax = plt.subplots(1,1)\n",
    "ax.set_xlabel('epoch') ; ax.set_ylabel('Categorical Crossentropy Loss')\n",
    "\n",
    "# list of epoch numbers\n",
    "x = list(range(1,epochs+1))\n",
    "\n",
    "# print(history.history.keys())\n",
    "# dict_keys(['val_loss', 'val_acc', 'loss', 'acc'])\n",
    "# history = model_drop.fit(X_train, Y_train, batch_size=batch_size, epochs=nb_epoch, verbose=1, validation_data=(X_test, Y_test))\n",
    "\n",
    "# we will get val_loss and val_acc only when you pass the paramter validation_data\n",
    "# val_loss : validation loss\n",
    "# val_acc : validation accuracy\n",
    "\n",
    "# loss : training loss\n",
    "# acc : train accuracy\n",
    "# for each key in histrory.histrory we will have a list of length equal to number of epochs\n",
    "\n",
    "vy = history.history['val_loss']\n",
    "ty = history.history['loss']\n",
    "plt_dynamic(x, vy, ty, ax)"
   ]
  },
  {
   "cell_type": "code",
   "execution_count": 8,
   "metadata": {
    "colab": {
     "base_uri": "https://localhost:8080/",
     "height": 204
    },
    "colab_type": "code",
    "id": "QPJFvHnCCp2n",
    "outputId": "c11128db-eb24-478d-9165-b5b675e5a7ef"
   },
   "outputs": [
    {
     "name": "stdout",
     "output_type": "stream",
     "text": [
      "Train on 60000 samples, validate on 10000 samples\n",
      "Epoch 1/5\n",
      "60000/60000 [==============================] - 48s 798us/step - loss: 0.5458 - acc: 0.8326 - val_loss: 0.0882 - val_acc: 0.9726\n",
      "Epoch 2/5\n",
      "60000/60000 [==============================] - 46s 761us/step - loss: 0.1176 - acc: 0.9668 - val_loss: 0.0967 - val_acc: 0.9698\n",
      "Epoch 3/5\n",
      "60000/60000 [==============================] - 46s 763us/step - loss: 0.0764 - acc: 0.9782 - val_loss: 0.0776 - val_acc: 0.9774\n",
      "Epoch 4/5\n",
      "60000/60000 [==============================] - 46s 760us/step - loss: 0.0622 - acc: 0.9824 - val_loss: 0.0319 - val_acc: 0.9904\n",
      "Epoch 5/5\n",
      "60000/60000 [==============================] - 46s 760us/step - loss: 0.0550 - acc: 0.9842 - val_loss: 0.0280 - val_acc: 0.9916\n"
     ]
    }
   ],
   "source": [
    "# 5 ConvNet layers of kernel size (5,5) with adam optimizer with BN with strides = (2,2) and additional 256 dense layer in reverse order\n",
    "\n",
    "# reduce epochs\n",
    "epochs = 5\n",
    "\n",
    "from keras.layers.normalization import BatchNormalization\n",
    "\n",
    "model = Sequential()\n",
    "\n",
    "model.add(Conv2D(512, kernel_size=(5, 5),\n",
    "                 activation='relu',\n",
    "                 input_shape=input_shape))\n",
    "\n",
    "model.add(Conv2D(256, (5, 5), activation='relu'))\n",
    "\n",
    "model.add(Conv2D(128, (5, 5), activation='relu'))\n",
    "\n",
    "model.add(Conv2D(64, (5, 5), activation='relu'))\n",
    "\n",
    "model.add(Conv2D(32, (5, 5), activation='relu'))\n",
    "\n",
    "model.add(MaxPooling2D(pool_size=(2, 2), strides=(2,2)))\n",
    "model.add(BatchNormalization())\n",
    "model.add(Dropout(0.25))\n",
    "model.add(Flatten())\n",
    "\n",
    "model.add(Dense(128, activation='relu'))\n",
    "model.add(BatchNormalization())\n",
    "model.add(Dropout(0.5))\n",
    "\n",
    "model.add(Dense(256, activation='relu'))\n",
    "model.add(BatchNormalization())\n",
    "model.add(Dropout(0.5))\n",
    "\n",
    "model.add(Dense(num_classes, activation='softmax'))\n",
    "\n",
    "model.compile(loss=keras.losses.categorical_crossentropy,\n",
    "              optimizer='adam',\n",
    "              metrics=['accuracy'])\n",
    "\n",
    "history = model.fit(x_train, y_train,\n",
    "          batch_size=batch_size,\n",
    "          epochs=epochs,\n",
    "          verbose=1,\n",
    "          validation_data=(x_test, y_test))"
   ]
  },
  {
   "cell_type": "code",
   "execution_count": 9,
   "metadata": {
    "colab": {
     "base_uri": "https://localhost:8080/",
     "height": 313
    },
    "colab_type": "code",
    "id": "BCGic3NlC1zK",
    "outputId": "e1d93e73-e2f1-4bf9-f413-3112318c6ff2"
   },
   "outputs": [
    {
     "name": "stdout",
     "output_type": "stream",
     "text": [
      "Test loss: 0.027952007718160168\n",
      "Test accuracy: 0.9916\n"
     ]
    },
    {
     "data": {
      "image/png": "[encoded data removed]",
      "text/plain": [
       "<Figure size 432x288 with 1 Axes>"
      ]
     },
     "metadata": {
      "tags": []
     },
     "output_type": "display_data"
    }
   ],
   "source": [
    "score = model.evaluate(x_test, y_test, verbose=0)\n",
    "print('Test loss:', score[0])\n",
    "print('Test accuracy:', score[1])\n",
    "\n",
    "fig,ax = plt.subplots(1,1)\n",
    "ax.set_xlabel('epoch') ; ax.set_ylabel('Categorical Crossentropy Loss')\n",
    "\n",
    "# list of epoch numbers\n",
    "x = list(range(1,epochs+1))\n",
    "\n",
    "# print(history.history.keys())\n",
    "# dict_keys(['val_loss', 'val_acc', 'loss', 'acc'])\n",
    "# history = model_drop.fit(X_train, Y_train, batch_size=batch_size, epochs=nb_epoch, verbose=1, validation_data=(X_test, Y_test))\n",
    "\n",
    "# we will get val_loss and val_acc only when you pass the paramter validation_data\n",
    "# val_loss : validation loss\n",
    "# val_acc : validation accuracy\n",
    "\n",
    "# loss : training loss\n",
    "# acc : train accuracy\n",
    "# for each key in histrory.histrory we will have a list of length equal to number of epochs\n",
    "\n",
    "vy = history.history['val_loss']\n",
    "ty = history.history['loss']\n",
    "plt_dynamic(x, vy, ty, ax)"
   ]
  },
  {
   "cell_type": "code",
   "execution_count": 25,
   "metadata": {
    "colab": {
     "base_uri": "https://localhost:8080/",
     "height": 204
    },
    "colab_type": "code",
    "id": "YogEK7cDC18q",
    "outputId": "ea2169ad-d08e-475d-e1fb-16d36c43cfa3"
   },
   "outputs": [
    {
     "name": "stdout",
     "output_type": "stream",
     "text": [
      "Train on 60000 samples, validate on 10000 samples\n",
      "Epoch 1/5\n",
      "60000/60000 [==============================] - 15s 258us/step - loss: 0.1921 - acc: 0.9434 - val_loss: 0.3286 - val_acc: 0.9046\n",
      "Epoch 2/5\n",
      "60000/60000 [==============================] - 12s 196us/step - loss: 0.0642 - acc: 0.9815 - val_loss: 0.0816 - val_acc: 0.9754\n",
      "Epoch 3/5\n",
      "60000/60000 [==============================] - 12s 195us/step - loss: 0.0443 - acc: 0.9873 - val_loss: 0.0387 - val_acc: 0.9886\n",
      "Epoch 4/5\n",
      "60000/60000 [==============================] - 12s 194us/step - loss: 0.0368 - acc: 0.9893 - val_loss: 0.0335 - val_acc: 0.9905\n",
      "Epoch 5/5\n",
      "60000/60000 [==============================] - 12s 193us/step - loss: 0.0336 - acc: 0.9904 - val_loss: 0.0313 - val_acc: 0.9904\n"
     ]
    }
   ],
   "source": [
    "# 4 ConvNet layers of kernel size (7,7) + 1 ConvNet layers of kernel size (3, 3) with adam optimizer with BN with strides = (2,2) and additional 256 dense layer\n",
    "\n",
    "# reduce epochs\n",
    "epochs = 5\n",
    "\n",
    "from keras.layers.normalization import BatchNormalization\n",
    "\n",
    "model = Sequential()\n",
    "\n",
    "model.add(Conv2D(32, kernel_size=(7, 7),\n",
    "                 activation='relu',\n",
    "                 input_shape=input_shape))\n",
    "\n",
    "model.add(Conv2D(64, (7, 7), activation='relu'))\n",
    "\n",
    "model.add(Conv2D(128, (7, 7), activation='relu'))\n",
    "\n",
    "model.add(Conv2D(256, (7, 7), activation='relu'))\n",
    "\n",
    "model.add(Conv2D(512, (3, 3), activation='relu'))\n",
    "\n",
    "model.add(MaxPooling2D(pool_size=(2, 2), strides=(2,2)))\n",
    "model.add(BatchNormalization())\n",
    "model.add(Dropout(0.25))\n",
    "model.add(Flatten())\n",
    "\n",
    "model.add(Dense(128, activation='relu'))\n",
    "model.add(BatchNormalization())\n",
    "model.add(Dropout(0.5))\n",
    "\n",
    "# model.add(Dense(256, activation='relu'))\n",
    "# model.add(BatchNormalization())\n",
    "# model.add(Dropout(0.5))\n",
    "\n",
    "model.add(Dense(num_classes, activation='softmax'))\n",
    "\n",
    "model.compile(loss=keras.losses.categorical_crossentropy,\n",
    "              optimizer='adam',\n",
    "              metrics=['accuracy'])\n",
    "\n",
    "history = model.fit(x_train, y_train,\n",
    "          batch_size=batch_size,\n",
    "          epochs=epochs,\n",
    "          verbose=1,\n",
    "          validation_data=(x_test, y_test))"
   ]
  },
  {
   "cell_type": "code",
   "execution_count": 26,
   "metadata": {
    "colab": {
     "base_uri": "https://localhost:8080/",
     "height": 313
    },
    "colab_type": "code",
    "id": "2mGr7RtxDBJD",
    "outputId": "de35353e-6670-42b6-ec60-707422841d1a"
   },
   "outputs": [
    {
     "name": "stdout",
     "output_type": "stream",
     "text": [
      "Test loss: 0.031292892064945774\n",
      "Test accuracy: 0.9904\n"
     ]
    },
    {
     "data": {
      "image/png": "[encoded data removed]",
      "text/plain": [
       "<Figure size 432x288 with 1 Axes>"
      ]
     },
     "metadata": {
      "tags": []
     },
     "output_type": "display_data"
    }
   ],
   "source": [
    "score = model.evaluate(x_test, y_test, verbose=0)\n",
    "print('Test loss:', score[0])\n",
    "print('Test accuracy:', score[1])\n",
    "\n",
    "fig,ax = plt.subplots(1,1)\n",
    "ax.set_xlabel('epoch') ; ax.set_ylabel('Categorical Crossentropy Loss')\n",
    "\n",
    "# list of epoch numbers\n",
    "x = list(range(1,epochs+1))\n",
    "\n",
    "# print(history.history.keys())\n",
    "# dict_keys(['val_loss', 'val_acc', 'loss', 'acc'])\n",
    "# history = model_drop.fit(X_train, Y_train, batch_size=batch_size, epochs=nb_epoch, verbose=1, validation_data=(X_test, Y_test))\n",
    "\n",
    "# we will get val_loss and val_acc only when you pass the paramter validation_data\n",
    "# val_loss : validation loss\n",
    "# val_acc : validation accuracy\n",
    "\n",
    "# loss : training loss\n",
    "# acc : train accuracy\n",
    "# for each key in histrory.histrory we will have a list of length equal to number of epochs\n",
    "\n",
    "vy = history.history['val_loss']\n",
    "ty = history.history['loss']\n",
    "plt_dynamic(x, vy, ty, ax)"
   ]
  },
  {
   "cell_type": "code",
   "execution_count": 27,
   "metadata": {
    "colab": {
     "base_uri": "https://localhost:8080/",
     "height": 204
    },
    "colab_type": "code",
    "id": "lb7COwmVDBVm",
    "outputId": "1b3fdffe-8229-4b02-912b-ec6dba3b5eaa"
   },
   "outputs": [
    {
     "name": "stdout",
     "output_type": "stream",
     "text": [
      "Train on 60000 samples, validate on 10000 samples\n",
      "Epoch 1/5\n",
      "60000/60000 [==============================] - 66s 1ms/step - loss: 0.7512 - acc: 0.7668 - val_loss: 0.1180 - val_acc: 0.9667\n",
      "Epoch 2/5\n",
      "60000/60000 [==============================] - 60s 1ms/step - loss: 0.1382 - acc: 0.9606 - val_loss: 0.0578 - val_acc: 0.9837\n",
      "Epoch 3/5\n",
      "60000/60000 [==============================] - 60s 1ms/step - loss: 0.0881 - acc: 0.9756 - val_loss: 0.0418 - val_acc: 0.9889\n",
      "Epoch 4/5\n",
      "60000/60000 [==============================] - 60s 1ms/step - loss: 0.0687 - acc: 0.9818 - val_loss: 0.0403 - val_acc: 0.9899\n",
      "Epoch 5/5\n",
      "60000/60000 [==============================] - 60s 1ms/step - loss: 0.0572 - acc: 0.9853 - val_loss: 0.0356 - val_acc: 0.9907\n"
     ]
    }
   ],
   "source": [
    "# 4 ConvNet layers of kernel size (7,7) + 1 ConvNet layers of kernel size (3, 3) with adam optimizer with BN with strides = (2,2) and additional 256 dense layer in filter higher to lower\n",
    "\n",
    "# reduce epochs\n",
    "epochs = 5\n",
    "\n",
    "from keras.layers.normalization import BatchNormalization\n",
    "\n",
    "model = Sequential()\n",
    "\n",
    "model.add(Conv2D(512, kernel_size=(7, 7),\n",
    "                 activation='relu',\n",
    "                 input_shape=input_shape))\n",
    "\n",
    "model.add(Conv2D(256, (7, 7), activation='relu'))\n",
    "\n",
    "model.add(Conv2D(128, (7, 7), activation='relu'))\n",
    "\n",
    "model.add(Conv2D(64, (7, 7), activation='relu'))\n",
    "\n",
    "model.add(Conv2D(32, (3, 3), activation='relu'))\n",
    "\n",
    "model.add(MaxPooling2D(pool_size=(2, 2), strides=(2,2)))\n",
    "model.add(BatchNormalization())\n",
    "model.add(Dropout(0.25))\n",
    "model.add(Flatten())\n",
    "\n",
    "model.add(Dense(128, activation='relu'))\n",
    "model.add(BatchNormalization())\n",
    "model.add(Dropout(0.5))\n",
    "\n",
    "model.add(Dense(256, activation='relu'))\n",
    "model.add(BatchNormalization())\n",
    "model.add(Dropout(0.5))\n",
    "\n",
    "model.add(Dense(num_classes, activation='softmax'))\n",
    "\n",
    "model.compile(loss=keras.losses.categorical_crossentropy,\n",
    "              optimizer='adam',\n",
    "              metrics=['accuracy'])\n",
    "\n",
    "history = model.fit(x_train, y_train,\n",
    "          batch_size=batch_size,\n",
    "          epochs=epochs,\n",
    "          verbose=1,\n",
    "          validation_data=(x_test, y_test))"
   ]
  },
  {
   "cell_type": "code",
   "execution_count": 28,
   "metadata": {
    "colab": {
     "base_uri": "https://localhost:8080/",
     "height": 313
    },
    "colab_type": "code",
    "id": "Rwa3u6GkDMpg",
    "outputId": "c70483d0-33cb-46d5-aa69-190c6bd7dbc0"
   },
   "outputs": [
    {
     "name": "stdout",
     "output_type": "stream",
     "text": [
      "Test loss: 0.035559197256021434\n",
      "Test accuracy: 0.9907\n"
     ]
    },
    {
     "data": {
      "image/png": "[encoded data removed]",
      "text/plain": [
       "<Figure size 432x288 with 1 Axes>"
      ]
     },
     "metadata": {
      "tags": []
     },
     "output_type": "display_data"
    }
   ],
   "source": [
    "score = model.evaluate(x_test, y_test, verbose=0)\n",
    "print('Test loss:', score[0])\n",
    "print('Test accuracy:', score[1])\n",
    "\n",
    "fig,ax = plt.subplots(1,1)\n",
    "ax.set_xlabel('epoch') ; ax.set_ylabel('Categorical Crossentropy Loss')\n",
    "\n",
    "# list of epoch numbers\n",
    "x = list(range(1,epochs+1))\n",
    "\n",
    "# print(history.history.keys())\n",
    "# dict_keys(['val_loss', 'val_acc', 'loss', 'acc'])\n",
    "# history = model_drop.fit(X_train, Y_train, batch_size=batch_size, epochs=nb_epoch, verbose=1, validation_data=(X_test, Y_test))\n",
    "\n",
    "# we will get val_loss and val_acc only when you pass the paramter validation_data\n",
    "# val_loss : validation loss\n",
    "# val_acc : validation accuracy\n",
    "\n",
    "# loss : training loss\n",
    "# acc : train accuracy\n",
    "# for each key in histrory.histrory we will have a list of length equal to number of epochs\n",
    "\n",
    "vy = history.history['val_loss']\n",
    "ty = history.history['loss']\n",
    "plt_dynamic(x, vy, ty, ax)"
   ]
  },
  {
   "cell_type": "code",
   "execution_count": 29,
   "metadata": {
    "colab": {
     "base_uri": "https://localhost:8080/",
     "height": 204
    },
    "colab_type": "code",
    "id": "WUUsq1qsDPvY",
    "outputId": "d44a05a3-5955-4467-a4b9-15b7cb488efe"
   },
   "outputs": [
    {
     "name": "stdout",
     "output_type": "stream",
     "text": [
      "Train on 60000 samples, validate on 10000 samples\n",
      "Epoch 1/5\n",
      "60000/60000 [==============================] - 78s 1ms/step - loss: 0.2416 - acc: 0.9286 - val_loss: 0.0798 - val_acc: 0.9772\n",
      "Epoch 2/5\n",
      "60000/60000 [==============================] - 68s 1ms/step - loss: 0.0817 - acc: 0.9762 - val_loss: 0.0349 - val_acc: 0.9897\n",
      "Epoch 3/5\n",
      "60000/60000 [==============================] - 68s 1ms/step - loss: 0.0631 - acc: 0.9816 - val_loss: 0.1273 - val_acc: 0.9625\n",
      "Epoch 4/5\n",
      "60000/60000 [==============================] - 68s 1ms/step - loss: 0.0491 - acc: 0.9852 - val_loss: 0.0624 - val_acc: 0.9813\n",
      "Epoch 5/5\n",
      "60000/60000 [==============================] - 68s 1ms/step - loss: 0.0450 - acc: 0.9873 - val_loss: 0.0300 - val_acc: 0.9915\n"
     ]
    }
   ],
   "source": [
    "# 7 ConvNet layers of kernel size (3, 3) with adam optimizer with BN with strides = (2,2) and additional 256 dense layer\n",
    "\n",
    "# reduce epochs\n",
    "epochs = 5\n",
    "\n",
    "from keras.layers.normalization import BatchNormalization\n",
    "\n",
    "model = Sequential()\n",
    "\n",
    "model.add(Conv2D(16, kernel_size=(3, 3),\n",
    "                 activation='relu',\n",
    "                 input_shape=input_shape))\n",
    "\n",
    "model.add(Conv2D(32, (3, 3), activation='relu'))\n",
    "\n",
    "model.add(Conv2D(64, (3, 3), activation='relu'))\n",
    "\n",
    "model.add(Conv2D(128, (3, 3), activation='relu'))\n",
    "\n",
    "model.add(Conv2D(256, (3, 3), activation='relu'))\n",
    "\n",
    "model.add(Conv2D(512, (3, 3), activation='relu'))\n",
    "\n",
    "model.add(Conv2D(1024, (3, 3), activation='relu'))\n",
    "\n",
    "model.add(MaxPooling2D(pool_size=(2, 2), strides=(2,2)))\n",
    "model.add(BatchNormalization())\n",
    "model.add(Dropout(0.25))\n",
    "model.add(Flatten())\n",
    "\n",
    "model.add(Dense(128, activation='relu'))\n",
    "model.add(BatchNormalization())\n",
    "model.add(Dropout(0.5))\n",
    "\n",
    "model.add(Dense(256, activation='relu'))\n",
    "model.add(BatchNormalization())\n",
    "model.add(Dropout(0.5))\n",
    "\n",
    "model.add(Dense(num_classes, activation='softmax'))\n",
    "\n",
    "model.compile(loss=keras.losses.categorical_crossentropy,\n",
    "              optimizer='adam',\n",
    "              metrics=['accuracy'])\n",
    "\n",
    "history = model.fit(x_train, y_train,\n",
    "          batch_size=batch_size,\n",
    "          epochs=epochs,\n",
    "          verbose=1,\n",
    "          validation_data=(x_test, y_test))"
   ]
  },
  {
   "cell_type": "code",
   "execution_count": 30,
   "metadata": {
    "colab": {
     "base_uri": "https://localhost:8080/",
     "height": 315
    },
    "colab_type": "code",
    "id": "KYSkfYTZDpHn",
    "outputId": "13346bf1-544a-4bf6-c203-ef71081ec125"
   },
   "outputs": [
    {
     "name": "stdout",
     "output_type": "stream",
     "text": [
      "Test loss: 0.029997077703708783\n",
      "Test accuracy: 0.9915\n"
     ]
    },
    {
     "data": {
      "image/png": "[encoded data removed]",
      "text/plain": [
       "<Figure size 432x288 with 1 Axes>"
      ]
     },
     "metadata": {
      "tags": []
     },
     "output_type": "display_data"
    }
   ],
   "source": [
    "score = model.evaluate(x_test, y_test, verbose=0)\n",
    "print('Test loss:', score[0])\n",
    "print('Test accuracy:', score[1])\n",
    "\n",
    "fig,ax = plt.subplots(1,1)\n",
    "ax.set_xlabel('epoch') ; ax.set_ylabel('Categorical Crossentropy Loss')\n",
    "\n",
    "# list of epoch numbers\n",
    "x = list(range(1,epochs+1))\n",
    "\n",
    "# print(history.history.keys())\n",
    "# dict_keys(['val_loss', 'val_acc', 'loss', 'acc'])\n",
    "# history = model_drop.fit(X_train, Y_train, batch_size=batch_size, epochs=nb_epoch, verbose=1, validation_data=(X_test, Y_test))\n",
    "\n",
    "# we will get val_loss and val_acc only when you pass the paramter validation_data\n",
    "# val_loss : validation loss\n",
    "# val_acc : validation accuracy\n",
    "\n",
    "# loss : training loss\n",
    "# acc : train accuracy\n",
    "# for each key in histrory.histrory we will have a list of length equal to number of epochs\n",
    "\n",
    "vy = history.history['val_loss']\n",
    "ty = history.history['loss']\n",
    "plt_dynamic(x, vy, ty, ax)"
   ]
  },
  {
   "cell_type": "code",
   "execution_count": 32,
   "metadata": {
    "colab": {
     "base_uri": "https://localhost:8080/",
     "height": 204
    },
    "colab_type": "code",
    "id": "5Ol3bn27Dptz",
    "outputId": "c8319b3c-ad43-4369-8a0f-e01d5bb9c2df"
   },
   "outputs": [
    {
     "name": "stdout",
     "output_type": "stream",
     "text": [
      "Train on 60000 samples, validate on 10000 samples\n",
      "Epoch 1/5\n",
      "60000/60000 [==============================] - 32s 527us/step - loss: 0.4578 - acc: 0.8591 - val_loss: 0.1843 - val_acc: 0.9418\n",
      "Epoch 2/5\n",
      "60000/60000 [==============================] - 24s 401us/step - loss: 0.0954 - acc: 0.9728 - val_loss: 0.0526 - val_acc: 0.9834\n",
      "Epoch 3/5\n",
      "60000/60000 [==============================] - 24s 394us/step - loss: 0.0733 - acc: 0.9799 - val_loss: 0.1200 - val_acc: 0.9661\n",
      "Epoch 4/5\n",
      "60000/60000 [==============================] - 23s 389us/step - loss: 0.0567 - acc: 0.9840 - val_loss: 0.0595 - val_acc: 0.9856\n",
      "Epoch 5/5\n",
      "60000/60000 [==============================] - 23s 386us/step - loss: 0.0492 - acc: 0.9860 - val_loss: 0.0611 - val_acc: 0.9842\n"
     ]
    }
   ],
   "source": [
    "# 6 ConvNet layers of kernel size (5, 5) + 1 ConvNet layers of kernel size (3, 3) with adam optimizer with BN with strides = (2,2) and additional 256 dense layer\n",
    "\n",
    "# reduce epochs\n",
    "epochs = 5\n",
    "\n",
    "from keras.layers.normalization import BatchNormalization\n",
    "\n",
    "model = Sequential()\n",
    "\n",
    "model.add(Conv2D(16, kernel_size=(5, 5),\n",
    "                 activation='relu',\n",
    "                 input_shape=input_shape))\n",
    "\n",
    "model.add(Conv2D(32, (5, 5), activation='relu'))\n",
    "\n",
    "model.add(Conv2D(64, (5, 5), activation='relu'))\n",
    "\n",
    "model.add(Conv2D(128, (5, 5), activation='relu'))\n",
    "\n",
    "model.add(Conv2D(256, (5, 5), activation='relu'))\n",
    "\n",
    "model.add(Conv2D(512, (5, 5), activation='relu'))\n",
    "\n",
    "model.add(Conv2D(1024, (3, 3), activation='relu'))\n",
    "\n",
    "model.add(MaxPooling2D(pool_size=(2, 2), strides=(2,2)))\n",
    "model.add(BatchNormalization())\n",
    "model.add(Dropout(0.25))\n",
    "model.add(Flatten())\n",
    "\n",
    "model.add(Dense(128, activation='relu'))\n",
    "model.add(BatchNormalization())\n",
    "model.add(Dropout(0.5))\n",
    "\n",
    "model.add(Dense(256, activation='relu'))\n",
    "model.add(BatchNormalization())\n",
    "model.add(Dropout(0.5))\n",
    "\n",
    "model.add(Dense(num_classes, activation='softmax'))\n",
    "\n",
    "model.compile(loss=keras.losses.categorical_crossentropy,\n",
    "              optimizer='adam',\n",
    "              metrics=['accuracy'])\n",
    "\n",
    "history = model.fit(x_train, y_train,\n",
    "          batch_size=batch_size,\n",
    "          epochs=epochs,\n",
    "          verbose=1,\n",
    "          validation_data=(x_test, y_test))"
   ]
  },
  {
   "cell_type": "code",
   "execution_count": 33,
   "metadata": {
    "colab": {
     "base_uri": "https://localhost:8080/",
     "height": 313
    },
    "colab_type": "code",
    "id": "E3ef4ZvvD0Zs",
    "outputId": "f8d40205-ed42-469c-d582-e608c092c76e"
   },
   "outputs": [
    {
     "name": "stdout",
     "output_type": "stream",
     "text": [
      "Test loss: 0.06113202596517513\n",
      "Test accuracy: 0.9842\n"
     ]
    },
    {
     "data": {
      "image/png": "[encoded data removed]",
      "text/plain": [
       "<Figure size 432x288 with 1 Axes>"
      ]
     },
     "metadata": {
      "tags": []
     },
     "output_type": "display_data"
    }
   ],
   "source": [
    "score = model.evaluate(x_test, y_test, verbose=0)\n",
    "print('Test loss:', score[0])\n",
    "print('Test accuracy:', score[1])\n",
    "\n",
    "fig,ax = plt.subplots(1,1)\n",
    "ax.set_xlabel('epoch') ; ax.set_ylabel('Categorical Crossentropy Loss')\n",
    "\n",
    "# list of epoch numbers\n",
    "x = list(range(1,epochs+1))\n",
    "\n",
    "# print(history.history.keys())\n",
    "# dict_keys(['val_loss', 'val_acc', 'loss', 'acc'])\n",
    "# history = model_drop.fit(X_train, Y_train, batch_size=batch_size, epochs=nb_epoch, verbose=1, validation_data=(X_test, Y_test))\n",
    "\n",
    "# we will get val_loss and val_acc only when you pass the paramter validation_data\n",
    "# val_loss : validation loss\n",
    "# val_acc : validation accuracy\n",
    "\n",
    "# loss : training loss\n",
    "# acc : train accuracy\n",
    "# for each key in histrory.histrory we will have a list of length equal to number of epochs\n",
    "\n",
    "vy = history.history['val_loss']\n",
    "ty = history.history['loss']\n",
    "plt_dynamic(x, vy, ty, ax)"
   ]
  },
  {
   "cell_type": "code",
   "execution_count": 43,
   "metadata": {
    "colab": {
     "base_uri": "https://localhost:8080/",
     "height": 204
    },
    "colab_type": "code",
    "id": "m2SCgHGpD0cy",
    "outputId": "9e99fdd2-92d4-493a-fcd2-d664aba6dddc"
   },
   "outputs": [
    {
     "name": "stdout",
     "output_type": "stream",
     "text": [
      "Train on 60000 samples, validate on 10000 samples\n",
      "Epoch 1/5\n",
      "60000/60000 [==============================] - 14s 238us/step - loss: 0.4217 - acc: 0.8753 - val_loss: 0.1831 - val_acc: 0.9484\n",
      "Epoch 2/5\n",
      "60000/60000 [==============================] - 9s 157us/step - loss: 0.1084 - acc: 0.9698 - val_loss: 0.0549 - val_acc: 0.9857\n",
      "Epoch 3/5\n",
      "60000/60000 [==============================] - 9s 158us/step - loss: 0.0760 - acc: 0.9798 - val_loss: 0.0864 - val_acc: 0.9759\n",
      "Epoch 4/5\n",
      "60000/60000 [==============================] - 9s 158us/step - loss: 0.0638 - acc: 0.9829 - val_loss: 0.0489 - val_acc: 0.9859\n",
      "Epoch 5/5\n",
      "60000/60000 [==============================] - 9s 156us/step - loss: 0.0554 - acc: 0.9854 - val_loss: 0.0641 - val_acc: 0.9825\n"
     ]
    }
   ],
   "source": [
    "# 7 ConvNet layers of kernel size (7, 7) + (5, 5) + (3, 3) + (1, 1) with adam optimizer with BN with strides = (2,2) and additional 256 dense layer\n",
    "\n",
    "# reduce epochs\n",
    "epochs = 5\n",
    "\n",
    "from keras.layers.normalization import BatchNormalization\n",
    "\n",
    "model = Sequential()\n",
    "\n",
    "model.add(Conv2D(16, kernel_size=(7, 7),\n",
    "                 activation='relu',\n",
    "                 input_shape=input_shape))\n",
    "\n",
    "model.add(Conv2D(32, (7, 7), activation='relu'))\n",
    "\n",
    "model.add(Conv2D(64, (7, 7), activation='relu'))\n",
    "\n",
    "model.add(Conv2D(128, (5, 5), activation='relu'))\n",
    "\n",
    "model.add(Conv2D(256, (3, 3), activation='relu'))\n",
    "\n",
    "model.add(Conv2D(512, (3, 3), activation='relu'))\n",
    "\n",
    "model.add(Conv2D(1024, (1, 1), activation='relu'))\n",
    "\n",
    "model.add(MaxPooling2D(pool_size=(2, 2), strides=(2,2)))\n",
    "model.add(BatchNormalization())\n",
    "model.add(Dropout(0.25))\n",
    "model.add(Flatten())\n",
    "\n",
    "model.add(Dense(128, activation='relu'))\n",
    "model.add(BatchNormalization())\n",
    "model.add(Dropout(0.5))\n",
    "\n",
    "model.add(Dense(256, activation='relu'))\n",
    "model.add(BatchNormalization())\n",
    "model.add(Dropout(0.5))\n",
    "\n",
    "model.add(Dense(num_classes, activation='softmax'))\n",
    "\n",
    "model.compile(loss=keras.losses.categorical_crossentropy,\n",
    "              optimizer='adam',\n",
    "              metrics=['accuracy'])\n",
    "\n",
    "history = model.fit(x_train, y_train,\n",
    "          batch_size=batch_size,\n",
    "          epochs=epochs,\n",
    "          verbose=1,\n",
    "          validation_data=(x_test, y_test))"
   ]
  },
  {
   "cell_type": "code",
   "execution_count": 44,
   "metadata": {
    "colab": {
     "base_uri": "https://localhost:8080/",
     "height": 313
    },
    "colab_type": "code",
    "id": "8HqtYmQwEA6G",
    "outputId": "279504fd-5323-46d9-ecaf-2d045b5e6b2a"
   },
   "outputs": [
    {
     "name": "stdout",
     "output_type": "stream",
     "text": [
      "Test loss: 0.0641055674814852\n",
      "Test accuracy: 0.9825\n"
     ]
    },
    {
     "data": {
      "image/png": "[encoded data removed]",
      "text/plain": [
       "<Figure size 432x288 with 1 Axes>"
      ]
     },
     "metadata": {
      "tags": []
     },
     "output_type": "display_data"
    }
   ],
   "source": [
    "score = model.evaluate(x_test, y_test, verbose=0)\n",
    "print('Test loss:', score[0])\n",
    "print('Test accuracy:', score[1])\n",
    "\n",
    "fig,ax = plt.subplots(1,1)\n",
    "ax.set_xlabel('epoch') ; ax.set_ylabel('Categorical Crossentropy Loss')\n",
    "\n",
    "# list of epoch numbers\n",
    "x = list(range(1,epochs+1))\n",
    "\n",
    "# print(history.history.keys())\n",
    "# dict_keys(['val_loss', 'val_acc', 'loss', 'acc'])\n",
    "# history = model_drop.fit(X_train, Y_train, batch_size=batch_size, epochs=nb_epoch, verbose=1, validation_data=(X_test, Y_test))\n",
    "\n",
    "# we will get val_loss and val_acc only when you pass the paramter validation_data\n",
    "# val_loss : validation loss\n",
    "# val_acc : validation accuracy\n",
    "\n",
    "# loss : training loss\n",
    "# acc : train accuracy\n",
    "# for each key in histrory.histrory we will have a list of length equal to number of epochs\n",
    "\n",
    "vy = history.history['val_loss']\n",
    "ty = history.history['loss']\n",
    "plt_dynamic(x, vy, ty, ax)"
   ]
  },
  {
   "cell_type": "code",
   "execution_count": 49,
   "metadata": {
    "colab": {
     "base_uri": "https://localhost:8080/",
     "height": 204
    },
    "colab_type": "code",
    "id": "ge1g4QTWEA9Z",
    "outputId": "da499860-72f5-46e5-bcb8-967f7db2ee75"
   },
   "outputs": [
    {
     "name": "stdout",
     "output_type": "stream",
     "text": [
      "Train on 60000 samples, validate on 10000 samples\n",
      "Epoch 1/5\n",
      "60000/60000 [==============================] - 353s 6ms/step - loss: 1.2800 - acc: 0.5857 - val_loss: 3.4473 - val_acc: 0.2100\n",
      "Epoch 2/5\n",
      "60000/60000 [==============================] - 328s 5ms/step - loss: 0.2642 - acc: 0.9196 - val_loss: 0.1766 - val_acc: 0.9495\n",
      "Epoch 3/5\n",
      "60000/60000 [==============================] - 326s 5ms/step - loss: 0.1621 - acc: 0.9523 - val_loss: 0.1216 - val_acc: 0.9635\n",
      "Epoch 4/5\n",
      "60000/60000 [==============================] - 325s 5ms/step - loss: 0.1267 - acc: 0.9646 - val_loss: 0.1049 - val_acc: 0.9697\n",
      "Epoch 5/5\n",
      "60000/60000 [==============================] - 324s 5ms/step - loss: 0.1008 - acc: 0.9712 - val_loss: 0.0737 - val_acc: 0.9800\n"
     ]
    }
   ],
   "source": [
    "# 7 ConvNet layers of kernel size (7, 7) + (5, 5) + (3, 3) + (1, 1) with adam optimizer with BN with strides = (2,2) and additional 256 dense layer in filter reverse order\n",
    "\n",
    "# reduce epochs\n",
    "epochs = 5\n",
    "\n",
    "from keras.layers.normalization import BatchNormalization\n",
    "\n",
    "model = Sequential()\n",
    "\n",
    "model.add(Conv2D(1024, kernel_size=(7, 7),\n",
    "                 activation='relu',\n",
    "                 input_shape=input_shape))\n",
    "\n",
    "model.add(Conv2D(512, (7, 7), activation='relu'))\n",
    "\n",
    "model.add(Conv2D(256, (7, 7), activation='relu'))\n",
    "\n",
    "model.add(Conv2D(128, (5, 5), activation='relu'))\n",
    "\n",
    "model.add(Conv2D(64, (3, 3), activation='relu'))\n",
    "\n",
    "model.add(Conv2D(32, (3, 3), activation='relu'))\n",
    "\n",
    "model.add(Conv2D(16, (1, 1), activation='relu'))\n",
    "\n",
    "model.add(MaxPooling2D(pool_size=(2, 2), strides=(2,2)))\n",
    "model.add(BatchNormalization())\n",
    "model.add(Dropout(0.25))\n",
    "model.add(Flatten())\n",
    "\n",
    "model.add(Dense(128, activation='relu'))\n",
    "model.add(BatchNormalization())\n",
    "model.add(Dropout(0.5))\n",
    "\n",
    "model.add(Dense(256, activation='relu'))\n",
    "model.add(BatchNormalization())\n",
    "model.add(Dropout(0.5))\n",
    "\n",
    "model.add(Dense(num_classes, activation='softmax'))\n",
    "\n",
    "model.compile(loss=keras.losses.categorical_crossentropy,\n",
    "              optimizer='adam',\n",
    "              metrics=['accuracy'])\n",
    "\n",
    "history = model.fit(x_train, y_train,\n",
    "          batch_size=batch_size,\n",
    "          epochs=epochs,\n",
    "          verbose=1,\n",
    "          validation_data=(x_test, y_test))"
   ]
  },
  {
   "cell_type": "code",
   "execution_count": 50,
   "metadata": {
    "colab": {
     "base_uri": "https://localhost:8080/",
     "height": 313
    },
    "colab_type": "code",
    "id": "rLUnCIoSEM3X",
    "outputId": "4d63beac-7376-480b-9acd-2f075ce8800f"
   },
   "outputs": [
    {
     "name": "stdout",
     "output_type": "stream",
     "text": [
      "Test loss: 0.07367353378676343\n",
      "Test accuracy: 0.98\n"
     ]
    },
    {
     "data": {
      "image/png": "[encoded data removed]",
      "text/plain": [
       "<Figure size 432x288 with 1 Axes>"
      ]
     },
     "metadata": {
      "tags": []
     },
     "output_type": "display_data"
    }
   ],
   "source": [
    "score = model.evaluate(x_test, y_test, verbose=0)\n",
    "print('Test loss:', score[0])\n",
    "print('Test accuracy:', score[1])\n",
    "\n",
    "fig,ax = plt.subplots(1,1)\n",
    "ax.set_xlabel('epoch') ; ax.set_ylabel('Categorical Crossentropy Loss')\n",
    "\n",
    "# list of epoch numbers\n",
    "x = list(range(1,epochs+1))\n",
    "\n",
    "# print(history.history.keys())\n",
    "# dict_keys(['val_loss', 'val_acc', 'loss', 'acc'])\n",
    "# history = model_drop.fit(X_train, Y_train, batch_size=batch_size, epochs=nb_epoch, verbose=1, validation_data=(X_test, Y_test))\n",
    "\n",
    "# we will get val_loss and val_acc only when you pass the paramter validation_data\n",
    "# val_loss : validation loss\n",
    "# val_acc : validation accuracy\n",
    "\n",
    "# loss : training loss\n",
    "# acc : train accuracy\n",
    "# for each key in histrory.histrory we will have a list of length equal to number of epochs\n",
    "\n",
    "vy = history.history['val_loss']\n",
    "ty = history.history['loss']\n",
    "plt_dynamic(x, vy, ty, ax)"
   ]
  },
  {
   "cell_type": "code",
   "execution_count": 55,
   "metadata": {
    "colab": {
     "base_uri": "https://localhost:8080/",
     "height": 391
    },
    "colab_type": "code",
    "id": "30xRA3xQC3tc",
    "outputId": "aa76d368-2840-468a-e8ee-ea335ef54e1b"
   },
   "outputs": [
    {
     "name": "stdout",
     "output_type": "stream",
     "text": [
      "+--------------------------------------------------------------------------------------+-------+----------------------+----------+\n",
      "|                                        Model                                         | Epoch |      Test Loss       | Accuracy |\n",
      "+--------------------------------------------------------------------------------------+-------+----------------------+----------+\n",
      "|                          2ConvNet+kernel-size(3,3)+AdaDelta                          |   12  | 0.02989680919691109  |  0.9917  |\n",
      "|                            2ConvNet+kernel-size(3,3)+Adam                            |   12  |  0.0264959564788458  |  0.9916  |\n",
      "|                        2ConvNet+kernel-size(3,3)+AdaDelta+BN                         |   12  | 0.03097261716249959  |  0.9916  |\n",
      "|                          2ConvNet+kernel-size(3,3)+Adam+BN                           |   12  | 0.03166750481659692  |  0.9915  |\n",
      "|                    2ConvNet+kernel-size(3,3)+Adam+BN+strides(2,2)                    |   12  | 0.031174442245866886 |  0.9915  |\n",
      "|         2ConvNet+kernel-size(3,3)+Adam+BN+strides(1,1)+additional dense 256          |   12  | 0.042936010688127135 |  0.9894  |\n",
      "|         2ConvNet+kernel-size(3,3)+Adam+BN+strides(2,2)+additional dense 256          |   12  | 0.03103352297358324  |  0.991   |\n",
      "|         3ConvNet+kernel-size(3,3)+Adam+BN+strides(2,2)+additional dense 256          |   12  | 0.03090731922862178  |  0.9925  |\n",
      "|         3ConvNet+kernel-size(5,5)+Adam+BN+strides(2,2)+additional dense 256          |   8   |  0.0196711675114595  |  0.9944  |\n",
      "|         3ConvNet+kernel-size(7,7)+Adam+BN+strides(2,2)+additional dense 256          |   12  | 0.019098179739220858 |  0.9942  |\n",
      "|         5ConvNet+kernel-size(5,5)+Adam+BN+strides(2,2)+additional dense 256          |   2   | 0.08924943232676014  |  0.9706  |\n",
      "| 5ConvNet+kernel-size(5,5)+Adam+BN+strides(2,2)+additional dense 256 + filter reverse |   5   | 0.027952007718160168 |  0.9916  |\n",
      "|         5ConvNet+kernel-size(7,7)+Adam+BN+strides(2,2)+additional dense 256          |   5   | 0.031292892064945774 |  0.9904  |\n",
      "| 5ConvNet+kernel-size(7,7)+Adam+BN+strides(2,2)+additional dense 256 + filter reverse |   5   | 0.035559197256021434 |  0.9907  |\n",
      "|         7ConvNet+kernel-size(3,3)+Adam+BN+strides(2,2)+additional dense 256          |   5   | 0.029997077703708783 |  0.9915  |\n",
      "|         7ConvNet+kernel-size(5,5)+Adam+BN+strides(2,2)+additional dense 256          |   5   | 0.06113202596517513  |  0.9842  |\n",
      "|         7ConvNet+kernel-size(7,7)+Adam+BN+strides(2,2)+additional dense 256          |   5   |  0.0641055674814852  |  0.9825  |\n",
      "| 7ConvNet+kernel-size(7,7)+Adam+BN+strides(2,2)+additional dense 256 + filter reverse |   5   | 0.07367353378676343  |   0.98   |\n",
      "+--------------------------------------------------------------------------------------+-------+----------------------+----------+\n"
     ]
    }
   ],
   "source": [
    "# Please compare all your models using Prettytable library\n",
    "#http://zetcode.com/python/prettytable/\n",
    "from prettytable import PrettyTable\n",
    "\n",
    "# I tried following CNN architectures:\n",
    "\n",
    "# 2 ConvNet layers of kernel size (3,3) with AdaDelta optimizer without BN (2ConvNet+kernel-size(3,3)+AdaDelta)\n",
    "# 2 ConvNet layers of kernel size (3,3) with adam optimizer without BN (2ConvNet+kernel-size(3,3)+Adam)\n",
    "# 2 ConvNet layers of kernel size (3,3) with AdaDelta optimizer with BN (2ConvNet+kernel-size(3,3)+AdaDelta+BN)\n",
    "# 2 ConvNet layers of kernel size (3,3) with adam optimizer with BN (2ConvNet+kernel-size(3,3)+Adam+BN)\n",
    "# 2 ConvNet layers of kernel size (3,3) with adam optimizer with BN with strides = (2,2) (2ConvNet+kernel-size(3,3)+Adam+BN+strides(2,2))\n",
    "# 2 ConvNet layers of kernel size (3,3) with adam optimizer with BN with strides = (1,1) and additional 256 dense layer \n",
    "# (2ConvNet+kernel-size(3,3)+Adam+BN+strides(1,1)+additional dense 256)\n",
    "# 2 ConvNet layers of kernel size (3,3) with adam optimizer with BN with strides = (2,2) and additional 256 dense layer\n",
    "# (2ConvNet+kernel-size(3,3)+Adam+BN+strides(2,2)+additional dense 256)\n",
    "\n",
    "# 3 ConvNet layers of kernel size (3,3) with adam optimizer with BN with strides = (2,2) and additional 256 dense layer\n",
    "# (3ConvNet+kernel-size(3,3)+Adam+BN+strides(2,2)+additional dense 256)\n",
    "# 3 ConvNet layers of kernel size (5,5) with adam optimizer with BN with strides = (2,2) and additional 256 dense layer\n",
    "# (3ConvNet+kernel-size(5,5)+Adam+BN+strides(2,2)+additional dense 256)\n",
    "# 3 ConvNet layers of kernel size (7,7) with adam optimizer with BN with strides = (2,2) and additional 256 dense layer\n",
    "# (3ConvNet+kernel-size(7,7)+Adam+BN+strides(2,2)+additional dense 256)\n",
    "\n",
    "# 5 ConvNet layers of kernel size (5,5) with adam optimizer with BN with strides = (2,2) and additional 256 dense layer\n",
    "# (5ConvNet+kernel-size(5,5)+Adam+BN+strides(2,2)+additional dense 256)\n",
    "# 5 ConvNet layers of kernel size (5,5) with adam optimizer with BN with strides = (2,2) and additional 256 dense layer in reverse order\n",
    "# (5ConvNet+kernel-size(5,5)+Adam+BN+strides(2,2)+additional dense 256)\n",
    "# 5 ConvNet layers of kernel size (7,7) with adam optimizer with BN with strides = (2,2) and additional 256 dense layer\n",
    "# (5ConvNet+kernel-size(7,7)+Adam+BN+strides(2,2)+additional dense 256)\n",
    "# 5 ConvNet layers of kernel size (7,7) with adam optimizer with BN with strides = (2,2) and additional 256 dense layer in reverse order\n",
    "# (5ConvNet+kernel-size(7,7)+Adam+BN+strides(2,2)+additional dense 256+filter reverse)\n",
    "\n",
    "# 7 ConvNet layers of kernel size (3, 3) with adam optimizer with BN with strides = (2,2) and additional 256 dense layer\n",
    "# (7ConvNet+kernel-size(3,3)+Adam+BN+strides(2,2)+additional dense 256)\n",
    "# 7 ConvNet layers of kernel size (5, 5) with adam optimizer with BN with strides = (2,2) and additional 256 dense layer\n",
    "# (7ConvNet+kernel-size(5,5)+Adam+BN+strides(2,2)+additional dense 256)\n",
    "# 7 ConvNet layers of kernel size (7, 7) with adam optimizer with BN with strides = (2,2) and additional 256 dense layer\n",
    "# (7ConvNet+kernel-size(7,7)+Adam+BN+strides(2,2)+additional dense 256)\n",
    "# 7 ConvNet layers of kernel size (7, 7) with adam optimizer with BN with strides = (2,2) and additional 256 dense layer in reverse order\n",
    "# (7ConvNet+kernel-size(7,7)+Adam+BN+strides(2,2)+additional dense 256+filter reverse)\n",
    "    \n",
    "x = PrettyTable()\n",
    "x.field_names = [\"Model\", \"Epoch\", \"Test Loss\", \"Accuracy\"]\n",
    "x.add_row([\"2ConvNet+kernel-size(3,3)+AdaDelta\", 12, 0.02989680919691109, 0.9917])\n",
    "x.add_row([\"2ConvNet+kernel-size(3,3)+Adam\", 12, 0.0264959564788458, 0.9916])\n",
    "x.add_row([\"2ConvNet+kernel-size(3,3)+AdaDelta+BN\", 12, 0.03097261716249959, 0.9916])\n",
    "x.add_row([\"2ConvNet+kernel-size(3,3)+Adam+BN\", 12, 0.03166750481659692, 0.9915])\n",
    "x.add_row([\"2ConvNet+kernel-size(3,3)+Adam+BN+strides(2,2)\", 12, 0.031174442245866886, 0.9915])\n",
    "x.add_row([\"2ConvNet+kernel-size(3,3)+Adam+BN+strides(1,1)+additional dense 256\", 12, 0.042936010688127135, 0.9894])\n",
    "x.add_row([\"2ConvNet+kernel-size(3,3)+Adam+BN+strides(2,2)+additional dense 256\", 12, 0.03103352297358324, 0.991])\n",
    "\n",
    "x.add_row([\"3ConvNet+kernel-size(3,3)+Adam+BN+strides(2,2)+additional dense 256\", 12, 0.03090731922862178, 0.9925])\n",
    "x.add_row([\"3ConvNet+kernel-size(5,5)+Adam+BN+strides(2,2)+additional dense 256\", 8, 0.0196711675114595, 0.9944])\n",
    "x.add_row([\"3ConvNet+kernel-size(7,7)+Adam+BN+strides(2,2)+additional dense 256\", 12, 0.019098179739220858, 0.9942])\n",
    "\n",
    "x.add_row([\"5ConvNet+kernel-size(5,5)+Adam+BN+strides(2,2)+additional dense 256\", 2, 0.08924943232676014, 0.9706])\n",
    "x.add_row([\"5ConvNet+kernel-size(5,5)+Adam+BN+strides(2,2)+additional dense 256 + filter reverse\", 5, 0.027952007718160168, 0.9916])\n",
    "x.add_row([\"5ConvNet+kernel-size(7,7)+Adam+BN+strides(2,2)+additional dense 256\", 5, 0.031292892064945774, 0.9904])\n",
    "x.add_row([\"5ConvNet+kernel-size(7,7)+Adam+BN+strides(2,2)+additional dense 256 + filter reverse\", 5, 0.035559197256021434, 0.9907])\n",
    "\n",
    "x.add_row([\"7ConvNet+kernel-size(3,3)+Adam+BN+strides(2,2)+additional dense 256\", 5, 0.029997077703708783, 0.9915])\n",
    "x.add_row([\"7ConvNet+kernel-size(5,5)+Adam+BN+strides(2,2)+additional dense 256\", 5, 0.06113202596517513, 0.9842])\n",
    "x.add_row([\"7ConvNet+kernel-size(7,7)+Adam+BN+strides(2,2)+additional dense 256\", 5, 0.0641055674814852, 0.9825])\n",
    "x.add_row([\"7ConvNet+kernel-size(7,7)+Adam+BN+strides(2,2)+additional dense 256 + filter reverse\", 5, 0.07367353378676343, 0.98])\n",
    "\n",
    "print(x)"
   ]
  },
  {
   "cell_type": "markdown",
   "metadata": {
    "colab_type": "text",
    "id": "taencyaqF1WT"
   },
   "source": [
    "\n",
    "\n",
    "<h1>Conclusion:</h1>\n",
    "\n",
    "*   MNIST is very simple dataset so increasing complexity in NN doesn't give better performance.\n",
    "\n",
    "*  Adding additional dense layer increase performance\n",
    "\n",
    "* Filter size in Conv layer from higher to lower has better performance i.e. 1024->512->256 is better than 256->512->1024\n",
    "\n",
    "* **For MNIST data using 3 Conv NN with 7X7 or 5X5 kernel size gives us best performance, Test loss is 0.019 and accuracy is 99.44%** \n",
    "\n",
    "* Epochs are increasing performance with 2 epochs I am getting 97% accuracy only\n",
    "\n",
    "* **GPUs are much faster than CPU, For current notebook for some complex NN architecture CPU shows approx 1-2hrs for 1 Epoch while GPU only took 6-7mins to execute that task.**\n",
    "\n",
    "\n",
    "\n"
   ]
  },
  {
   "cell_type": "code",
   "execution_count": 0,
   "metadata": {
    "colab": {},
    "colab_type": "code",
    "id": "sEyhzlArFKL4"
   },
   "outputs": [],
   "source": []
  }
 ],
 "metadata": {
  "accelerator": "GPU",
  "colab": {
   "collapsed_sections": [],
   "name": "CNN_MNIST.ipynb",
   "provenance": []
  },
  "kernelspec": {
   "display_name": "Python 3",
   "language": "python",
   "name": "python3"
  },
  "language_info": {
   "codemirror_mode": {
    "name": "ipython",
    "version": 3
   },
   "file_extension": ".py",
   "mimetype": "text/x-python",
   "name": "python",
   "nbconvert_exporter": "python",
   "pygments_lexer": "ipython3",
   "version": "3.7.3"
  }
 },
 "nbformat": 4,
 "nbformat_minor": 1
}
